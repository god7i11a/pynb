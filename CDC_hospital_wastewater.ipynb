{
 "cells": [
  {
   "cell_type": "markdown",
   "metadata": {
    "id": "DNadct5FrmCl"
   },
   "source": [
    "# Hospitalization and Wastewater Data Retrieval and Visualization\n",
    "#         People's CDC   http://peoplescdc.org\n",
    "#               Updated 12/30/2023 @10:55 AM  by Les Schaffer"
   ]
  },
  {
   "cell_type": "markdown",
   "metadata": {
    "id": "8278k8-grmCs"
   },
   "source": [
    "## Setup: be sure to run these first two cells"
   ]
  },
  {
   "cell_type": "code",
   "execution_count": null,
   "metadata": {
    "id": "V_b-PpmArmCu"
   },
   "outputs": [],
   "source": [
    "import os\n",
    "import re\n",
    "import sys\n",
    "\n",
    "try:\n",
    "    from google.colab import userdata, output\n",
    "    output.enable_custom_widget_manager()\n",
    "    api_key_id = userdata.get('api_key_id')\n",
    "    api_key_secret = userdata.get('api_key_secret')\n",
    "    api_app_token = userdata.get('api_app_token')\n",
    "    ! pip install sodapy\n",
    "    ! pip install ipympl\n",
    "except ModuleNotFoundError:\n",
    "    sys.path.append(os.path.abspath('../'))\n",
    "    from tokens import api_key_id, api_key_secret, api_app_token\n",
    "\n",
    "get_ipython().run_line_magic('matplotlib', 'ipympl')\n",
    "\n",
    "from sodapy import Socrata\n",
    "from pandas import DataFrame, to_datetime, Series, concat, isna\n",
    "from matplotlib import pyplot as plt\n",
    "import matplotlib.dates as mdates\n",
    "import seaborn as sbrn\n",
    "\n",
    "# set up Socrata clients for data queries\n",
    "# hospital data by facility and by state\n",
    "URL = 'healthdata.gov'\n",
    "hclient = Socrata(URL, api_app_token,  username=api_key_id,   password=api_key_secret, timeout=20 )\n",
    "\n",
    "# wastewater data by facility\n",
    "URL = 'data.cdc.gov'\n",
    "wclient = Socrata(URL, api_app_token,  username=api_key_id,   password=api_key_secret, timeout=20 )"
   ]
  },
  {
   "cell_type": "code",
   "execution_count": null,
   "metadata": {
    "id": "jfyU0zL2OoaB"
   },
   "outputs": [],
   "source": [
    "def format_axis(ax=None):\n",
    "    _num2date = mdates.num2date\n",
    "\n",
    "    def formatter(x, y):\n",
    "        the_date = _num2date(x).date().isoformat()\n",
    "        return f'x={the_date}, y={y:.4g}'\n",
    "\n",
    "    if ax is None:\n",
    "        ax = plt.gca()\n",
    "    ax.format_coord = formatter\n"
   ]
  },
  {
   "cell_type": "markdown",
   "metadata": {
    "id": "UfAMeaYTrmCx"
   },
   "source": [
    "# Hospitalization -- by facility\n",
    "\n",
    "## metadata"
   ]
  },
  {
   "cell_type": "code",
   "execution_count": null,
   "metadata": {
    "id": "fUIn1ucBrmC0"
   },
   "outputs": [],
   "source": [
    "RSRC ='anag-cw7u'\n",
    "metadata = hclient.get_metadata(RSRC)\n",
    "print([x['name'] for x in metadata['columns']])\n",
    "print(metadata.keys())\n",
    "print(metadata['rowsUpdatedBy'])\n",
    "print(metadata['owner'])\n",
    "metadata['metadata']\n",
    "metadata['columns']\n",
    "\n",
    "meta_amount = [x for x in metadata['columns'] if x['name'] == 'inpatient_beds_used_covid_7_day_avg']\n",
    "meta_amount"
   ]
  },
  {
   "cell_type": "markdown",
   "metadata": {
    "id": "G6ZUpXeWrmC1"
   },
   "source": [
    "## get the data"
   ]
  },
  {
   "cell_type": "code",
   "execution_count": null,
   "metadata": {
    "id": "o6bbVXW2rmC2"
   },
   "outputs": [],
   "source": [
    "RSRC ='anag-cw7u'\n",
    "# Use the 'where' argument to filter the data before downloading it\n",
    "results = hclient.get(RSRC, where=u\"collection_week >= '2023-12-11T00:00:00.000'\", limit=100000)   # AND hospital_subtype = 'Children's Hospitals'\")\n",
    "results=DataFrame.from_records(results)\n",
    "print(\"Number of results downloaded: {}\".format(len(results)))\n",
    "\n",
    "results['collection_week'] = to_datetime(results['collection_week'])\n",
    "print(results['collection_week'].sort_values().unique())"
   ]
  },
  {
   "cell_type": "markdown",
   "metadata": {
    "id": "C8XKXN4qrmC4"
   },
   "source": [
    "## make tables and plots\n",
    "### Children's hospitals: covid bed fraction > 20%"
   ]
  },
  {
   "cell_type": "code",
   "execution_count": null,
   "metadata": {
    "id": "mWYdKTMarmC6"
   },
   "outputs": [],
   "source": [
    "query = \"\"\"\n",
    "SELECT\n",
    "collection_week,\n",
    "hospital_name,\n",
    "all_pediatric_inpatient_beds_7_day_avg,\n",
    "total_pediatric_patients_hospitalized_confirmed_and_suspected_covid_7_day_avg,\n",
    "inpatient_beds_7_day_avg\n",
    "WHERE\n",
    "collection_week>'2020-03-01T00:00:00.000'\n",
    "AND hospital_subtype = \"Childrens Hospitals\"\n",
    "ORDER BY\n",
    "collection_week\n",
    "LIMIT\n",
    "40000\n",
    "\"\"\"\n",
    "RSRC ='anag-cw7u'\n",
    "results = hclient.get(RSRC, query=query)\n",
    "res=DataFrame.from_records(results)\n",
    "res=res.replace('-999999.0', '2.0')\n",
    "res['total_pediatric_patients_hospitalized_confirmed_and_suspected_covid_7_day_avg'] = res['total_pediatric_patients_hospitalized_confirmed_and_suspected_covid_7_day_avg'].astype(float)\n",
    "res['all_pediatric_inpatient_beds_7_day_avg']=res['all_pediatric_inpatient_beds_7_day_avg'].astype(float)\n",
    "res['inpatient_beds_7_day_avg'] = res['inpatient_beds_7_day_avg'].astype(float)\n",
    "res['percent'] = 100*res['total_pediatric_patients_hospitalized_confirmed_and_suspected_covid_7_day_avg']/res['all_pediatric_inpatient_beds_7_day_avg']\n",
    "# cases where all_pediatric_inpatient_beds_7_day_avg is reported as 0!!!! then use inpatient_beds_7_day_avg\n",
    "use_inpatient_beds = res['all_pediatric_inpatient_beds_7_day_avg']==0.0\n",
    "res.loc[use_inpatient_beds, 'percent'] = 100*res[use_inpatient_beds]['total_pediatric_patients_hospitalized_confirmed_and_suspected_covid_7_day_avg']/res[use_inpatient_beds]['inpatient_beds_7_day_avg']\n",
    "\n",
    "num = res.loc[:,'percent'].count()\n",
    "print(f'Number of times facilities reporting = {num}')\n",
    "hidden = res['total_pediatric_patients_hospitalized_confirmed_and_suspected_covid_7_day_avg']==2.0\n",
    "num = res.loc[hidden,'percent'].count()\n",
    "print(f'Number of times facilities reporting -999999 --> 2 = {num}')\n",
    "plt.figure()\n",
    "res.loc[~hidden, 'percent'].plot(kind='hist', bins=100, logy=True)\n",
    "plt.gcf().suptitle('# reports of percent usage')\n",
    "plt.gca().set_xlabel('percent usage')\n",
    "res[res['percent']>=20].sort_values('percent', ascending=False)"
   ]
  },
  {
   "cell_type": "markdown",
   "metadata": {
    "id": "f3uOKGPkoqma"
   },
   "source": [
    "### lets look at average usage over the entire pandemic > 5% !!!"
   ]
  },
  {
   "cell_type": "code",
   "execution_count": null,
   "metadata": {
    "id": "D-UNuk3_rmC8"
   },
   "outputs": [],
   "source": [
    "df=res.groupby(['hospital_name',])['percent'].mean()\n",
    "df[df>=5.]"
   ]
  },
  {
   "cell_type": "markdown",
   "metadata": {
    "id": "KNihy5tvS44Q"
   },
   "source": [
    "### Pediatric admission, nationwide"
   ]
  },
  {
   "cell_type": "code",
   "execution_count": null,
   "metadata": {
    "id": "A52MXsLUrmC9"
   },
   "outputs": [],
   "source": [
    "query = \"\"\"\n",
    "SELECT\n",
    "previous_day_admission_pediatric_covid_confirmed_7_day_sum,\n",
    "collection_week\n",
    "WHERE\n",
    "collection_week>'2020-01-03T00:00:00.000' AND hospital_subtype = \"Childrens Hospitals\"\n",
    "ORDER BY\n",
    "collection_week ASC\n",
    "LIMIT\n",
    "30000\n",
    "\"\"\"\n",
    "RSRC ='anag-cw7u'\n",
    "results = hclient.get(RSRC, query=query)\n",
    "res=DataFrame.from_records(results)\n",
    "res=res.replace('-999999', '2')\n",
    "res['collection_week'] = to_datetime(res['collection_week'])\n",
    "res=res[res['previous_day_admission_pediatric_covid_confirmed_7_day_sum'].notna()]\n",
    "res['previous_day_admission_pediatric_covid_confirmed_7_day_sum']=res['previous_day_admission_pediatric_covid_confirmed_7_day_sum'].astype(int)\n",
    "df=res.groupby('collection_week').sum()\n",
    "plt.figure()\n",
    "plt.plot(df['previous_day_admission_pediatric_covid_confirmed_7_day_sum'])\n",
    "plt.tick_params('x', rotation=90)\n",
    "plt.title('pediatric admissions -- 7-day sums')\n",
    "res"
   ]
  },
  {
   "cell_type": "markdown",
   "metadata": {
    "id": "zbawBNkuR2eb"
   },
   "source": [
    "## Adults"
   ]
  },
  {
   "cell_type": "code",
   "execution_count": null,
   "metadata": {
    "id": "chCNOyNxR2ec"
   },
   "outputs": [],
   "source": [
    "query = \"\"\"\n",
    "SELECT\n",
    "previous_day_admission_adult_covid_confirmed_7_day_sum,\n",
    "total_adult_patients_hospitalized_confirmed_covid_7_day_avg,\n",
    "total_adult_patients_hospitalized_confirmed_covid_7_day_sum,\n",
    "collection_week\n",
    "WHERE\n",
    "collection_week>'2020-01-03T00:00:00.000' AND hospital_subtype != \"Childrens Hospitals\"\n",
    "ORDER BY\n",
    "collection_week ASC\n",
    "LIMIT\n",
    "1000000\n",
    "\"\"\"\n",
    "RSRC ='anag-cw7u'\n",
    "results = hclient.get(RSRC, query=query)\n",
    "ares=DataFrame.from_records(results)\n",
    "ares=ares.replace('-999999', '2')\n",
    "ares=ares.replace('-999999.0', '2.0')\n",
    "ares['collection_week'] = to_datetime(ares['collection_week'])\n",
    "\n",
    "ares=ares[ares['previous_day_admission_adult_covid_confirmed_7_day_sum'].notna()]\n",
    "ares['previous_day_admission_adult_covid_confirmed_7_day_sum']=ares['previous_day_admission_adult_covid_confirmed_7_day_sum'].astype(int)\n",
    "\n",
    "ares=ares[ares['total_adult_patients_hospitalized_confirmed_covid_7_day_avg'].notna()]\n",
    "ares['total_adult_patients_hospitalized_confirmed_covid_7_day_avg']=ares['total_adult_patients_hospitalized_confirmed_covid_7_day_avg'].astype(float)\n",
    "\n",
    "ares=ares[ares['total_adult_patients_hospitalized_confirmed_covid_7_day_sum'].notna()]\n",
    "ares['total_adult_patients_hospitalized_confirmed_covid_7_day_sum']=ares['total_adult_patients_hospitalized_confirmed_covid_7_day_sum'].astype(float)\n",
    "ares"
   ]
  },
  {
   "cell_type": "code",
   "execution_count": null,
   "metadata": {
    "id": "TdG4DWpGR2ec"
   },
   "outputs": [],
   "source": [
    "df=ares.groupby('collection_week').sum()\n",
    "fig, (ax1,ax2) = plt.subplots(2,1, sharex=True)\n",
    "ax1.plot(df['previous_day_admission_adult_covid_confirmed_7_day_sum']/7)\n",
    "ax1.tick_params('x', rotation=90)\n",
    "ax1.set_title('adult admissions -- 7-day ave')\n",
    "\n",
    "ax2.plot(df['total_adult_patients_hospitalized_confirmed_covid_7_day_avg'])\n",
    "ax2.tick_params('x', rotation=90)\n",
    "ax2.set_title('adult hospitalized -- 7-day ave')"
   ]
  },
  {
   "cell_type": "markdown",
   "metadata": {
    "id": "ibjnkWzNrmC_"
   },
   "source": [
    "# by state and nation, adult\n",
    "## metadata first, only if needed"
   ]
  },
  {
   "cell_type": "code",
   "execution_count": null,
   "metadata": {
    "id": "Nr5dtCaJrmC_"
   },
   "outputs": [],
   "source": [
    "RSRC ='g62h-syeh'\n",
    "metadata = hclient.get_metadata(RSRC)\n",
    "\n",
    "# print([x['name'] for x in metadata['columns']])\n",
    "print(metadata.keys())\n",
    "print(metadata['rowsUpdatedBy'])\n",
    "print(metadata['owner'])\n",
    "metadata['metadata']\n",
    "metadata['columns']"
   ]
  },
  {
   "cell_type": "markdown",
   "metadata": {
    "id": "LzybkIZ-pPzG"
   },
   "source": [
    "## get the data"
   ]
  },
  {
   "cell_type": "code",
   "execution_count": null,
   "metadata": {
    "id": "l5QTAciMrmDA"
   },
   "outputs": [],
   "source": [
    "RSRC ='g62h-syeh'\n",
    "query = \"\"\"\n",
    "SELECT\n",
    "hospital_onset_covid,\n",
    "deaths_covid,\n",
    "previous_day_admission_adult_covid_confirmed,\n",
    "percent_of_inpatients_with_covid,\n",
    "state,\n",
    "date\n",
    "WHERE\n",
    "date>'2020-01-03T00:00:00.000'\n",
    "ORDER BY\n",
    "date ASC\n",
    "LIMIT\n",
    "100000\n",
    "\"\"\"\n",
    "colL = ('hospital_onset_covid', 'deaths_covid', 'previous_day_admission_adult_covid_confirmed', 'percent_of_inpatients_with_covid')\n",
    "results = hclient.get(RSRC, query=query)\n",
    "hsres=DataFrame.from_records(results)\n",
    "hsres.fillna(0,inplace=True)\n",
    "hsres['date'] = to_datetime(hsres['date'])\n",
    "for colN in colL[:-1]:\n",
    "    hsres[colN] = hsres[colN].astype(int)\n",
    "\n",
    "hsres[colL[-1]] = hsres[colL[-1]].astype(float)\n",
    "print(hsres.dtypes)\n",
    "print(hsres)\n",
    "hs_col_order = hsres['state'].unique().tolist()\n",
    "hs_col_order.sort()"
   ]
  },
  {
   "cell_type": "markdown",
   "metadata": {
    "id": "3uThzuwlrmDC"
   },
   "source": [
    "## Visualize the data sets\n",
    "### needs 7-day rolling averages\n",
    "### needs better handling of labels (shorten the column names)\n",
    "### needs ScatterMapBox maps for by_facility\n",
    "\n",
    "### Nationwide"
   ]
  },
  {
   "cell_type": "code",
   "execution_count": null,
   "metadata": {
    "id": "OZK5m3k9aWw9"
   },
   "outputs": [],
   "source": [
    "fig,axL = plt.subplots(3,1, sharex=True, figsize=(12,8))\n",
    "axL[0].set_title('Nationwide')\n",
    "for stat, ax in zip( ('deaths_covid','hospital_onset_covid',  'previous_day_admission_adult_covid_confirmed'), axL):\n",
    "    national = hsres.groupby('date')[stat].sum()\n",
    "    ax.plot_date(national.index,national,ms=1)\n",
    "    ax.tick_params('x', rotation=90)\n",
    "    ax.set_ylabel(stat)\n",
    "    format_axis(ax)"
   ]
  },
  {
   "cell_type": "markdown",
   "metadata": {
    "id": "uSUUJsjtR2eh"
   },
   "source": [
    "### hospital_onset_covid"
   ]
  },
  {
   "cell_type": "code",
   "execution_count": null,
   "metadata": {
    "id": "lTF_fTlnrmDD"
   },
   "outputs": [],
   "source": [
    "graph1 = sbrn.FacetGrid(hsres, col='state', col_order=hs_col_order, sharex=True, sharey=False, col_wrap=8)\n",
    "graph1.map(plt.plot_date, 'date', 'hospital_onset_covid', ms=1)\n",
    "graph1.tick_params('x', rotation=90)\n",
    "graph1.savefig('hospital_onset_covid.png')"
   ]
  },
  {
   "cell_type": "markdown",
   "metadata": {
    "id": "D0Qyg0HEeSJH"
   },
   "source": [
    "### deaths_covid"
   ]
  },
  {
   "cell_type": "code",
   "execution_count": null,
   "metadata": {
    "id": "lLuYH8zSrmDD"
   },
   "outputs": [],
   "source": [
    "graph2 = sbrn.FacetGrid(hsres, col='state', col_order=hs_col_order, sharex=True, sharey=False, col_wrap=8)\n",
    "graph2.map(plt.plot_date, 'date', 'deaths_covid', ms=1)\n",
    "graph2.tick_params('x', rotation=90)\n",
    "graph2.savefig('deaths_covid.png')"
   ]
  },
  {
   "cell_type": "markdown",
   "metadata": {
    "id": "slrUMxO7eIjF"
   },
   "source": [
    "### previous_day_admission_adult_covid_confirmed"
   ]
  },
  {
   "cell_type": "code",
   "execution_count": null,
   "metadata": {
    "id": "B4OTwPwQrmDE"
   },
   "outputs": [],
   "source": [
    "graph3 = sbrn.FacetGrid(hsres, col='state', col_order=hs_col_order, sharex=True, sharey=False, col_wrap=8)\n",
    "graph3.map(plt.plot_date, 'date', 'previous_day_admission_adult_covid_confirmed', ms=1)\n",
    "graph3.tick_params('x', rotation=90)\n",
    "graph3.savefig('previous_day_admission_adult_covid_confirmed.png')"
   ]
  },
  {
   "cell_type": "markdown",
   "metadata": {
    "id": "0V_nHR4xedoL"
   },
   "source": [
    "### percent_of_inpatients_with_covid"
   ]
  },
  {
   "cell_type": "code",
   "execution_count": null,
   "metadata": {
    "id": "t6YorIHhrmDF"
   },
   "outputs": [],
   "source": [
    "graph4 = sbrn.FacetGrid(hsres, col='state', col_order=hs_col_order, sharex=True, sharey=False, col_wrap=8)\n",
    "graph4.map(plt.plot_date, 'date', 'percent_of_inpatients_with_covid', ms=1)\n",
    "graph4.tick_params('x', rotation=90)\n",
    "graph4.savefig('percent_of_inpatients_with_covid.png')"
   ]
  },
  {
   "cell_type": "markdown",
   "metadata": {
    "id": "XhVT12SermDF"
   },
   "source": [
    "## data summary over pandemic, by state"
   ]
  },
  {
   "cell_type": "code",
   "execution_count": null,
   "metadata": {
    "id": "UAYTdyI0rmDG"
   },
   "outputs": [],
   "source": [
    "dataD = {}\n",
    "totalD = {'state':'TOTAL/AVE'}\n",
    "for colN in colL[:-1]:\n",
    "    dataD[colN]=hsres.groupby(['state', ])[colN].sum()\n",
    "    totalD[colN] = hsres[colN].sum()\n",
    "\n",
    "dataD[colL[-1]] = hsres.groupby(['state', ])[colL[-1]].mean()\n",
    "dataD['max percentage'] = hsres.groupby(['state', ])[colL[-1]].max()\n",
    "\n",
    "totalD[colL[-1]] = hsres[colL[-1]].mean()\n",
    "totalD['max percentage'] = dataD['max percentage'].mean()\n",
    "df1=DataFrame(dataD)\n",
    "df2=DataFrame(totalD, index=['last'])\n",
    "df2=df2.set_index('state')\n",
    "df = concat([df1,df2])\n",
    "df.to_csv('state-summary.csv')\n",
    "df\n"
   ]
  },
  {
   "cell_type": "markdown",
   "metadata": {
    "id": "WTRk6y1yrmDH"
   },
   "source": [
    "# Wastewater code\n",
    "### need to handle visualization maps by-facility\n",
    "### need to develop code to bring up to county and state/nation\n",
    "### N.B. some plants with ONE unique ID are delivering two or more sets of numbers on a given day. e.g.: ma_1495\n",
    "\n",
    "### initialization: needed functions and build waste treatment plant database"
   ]
  },
  {
   "cell_type": "code",
   "execution_count": null,
   "metadata": {},
   "outputs": [],
   "source": [
    "# some  functions for later use\n",
    "# x='CDC_BIOBOT_ny_505_Treatment plant_raw wastewater'\n",
    "#             wwtp_jurisdiction \twwtp_id \treporting_jurisdiction \tsample_location \tsample_location_specify \tkey_plot_id \t                                    county_names \tcounty_fips \tpopulation_served\n",
    "# 252219 \t  California \t        2526 \t        California \t        Treatment plant \tNaN \t                    CDC_VERILY_ca_2526_Treatment plant_post grit r... \tVentura \t    06111 \t          250000\n",
    "# 252487 \t  Texas \t            2527 \t        Texas \t            Treatment plant \t635 \t                    CDC_VERILY_tx_2527_Treatment plant_635_raw was... \tTravis \t        48453 \t          529541\n",
    "# 252884 \t  California \t        834 \t        California \t        Treatment plant \t633 \t                    CDC_VERILY_ca_834_Treatment plant_633_post gri... \tRiverside \t    06065 \t           91980\n",
    "regex = re.compile('_[a-z][a-z]_(\\d+)_')\n",
    "\n",
    "def get_id(row):\n",
    "    x = row.key_plot_id\n",
    "    y = regex.search(x)\n",
    "    if y:\n",
    "        shortened = x[0:y.end()-1] \n",
    "    else:\n",
    "        print(row)\n",
    "        shortened = x.split(' ')[0]\n",
    "        print('id w/o #: ', shortened)\n",
    "    # NWSS_az_1212 1212\n",
    "    if not isna(row.sample_location_specify):\n",
    "        shortened = shortened + f'_{row.sample_location_specify}'\n",
    "    elif x.find('post grit')>-1:\n",
    "        shortened=shortened+'_post'\n",
    "    return shortened\n",
    "\n",
    "def get_col_order(df, key_column):\n",
    "    col_order = df[key_column].unique().tolist()\n",
    "    col_order.sort()\n",
    "    return col_order\n",
    "\n",
    "def update_wwtp_id(df):\n",
    "    df['wwtp_id'] = df.apply(get_id, axis=1)\n",
    "    return df"
   ]
  },
  {
   "cell_type": "code",
   "execution_count": null,
   "metadata": {
    "id": "z_MjrktiR2en"
   },
   "outputs": [],
   "source": [
    "fieldStr = 'wwtp_jurisdiction,wwtp_id,reporting_jurisdiction,sample_location,sample_location_specify,key_plot_id,county_names,county_fips,population_served'\n",
    "query = f\"\"\"\n",
    "SELECT\n",
    "{fieldStr}\n",
    "WHERE\n",
    "date_end>'2023-07-01T00:00:00.000'\n",
    "LIMIT\n",
    "300000\n",
    "\"\"\"\n",
    "\n",
    "        \n",
    "results = wclient.get(\"2ew6-ywp6\", query=query)\n",
    "res0=DataFrame.from_records(results)\n",
    "\n",
    "print(res0['key_plot_id'].count())\n",
    "\n",
    "grp=res0.groupby('key_plot_id').nth(0)\n",
    "grp = grp.astype({'population_served': int, 'sample_location_specify': 'Int64' })\n",
    "grp = update_wwtp_id(grp)\n",
    "grp.to_csv('wwtp_db.csv')\n",
    "mults = grp.groupby('wwtp_id',group_keys=False).apply(lambda x: x if x.key_plot_id.count()>1 else None) \n",
    "print(mults)\n",
    "mults.to_csv('multiples.csv')\n",
    "grp"
   ]
  },
  {
   "cell_type": "markdown",
   "metadata": {
    "id": "aENOwOX2R2eo"
   },
   "source": [
    "## by facility. can get all facilities in a state by inputting two letter state abbrev or particular facility by state+wwtp_id+sample_location_specify if existing\n",
    "### enter state abbreviation at prompt"
   ]
  },
  {
   "cell_type": "code",
   "execution_count": null,
   "metadata": {
    "id": "e8KxNeKYrmDI"
   },
   "outputs": [],
   "source": [
    "wstate = input('enter state abbreviation for displaying wastewater results: ')"
   ]
  },
  {
   "cell_type": "markdown",
   "metadata": {
    "id": "QzdeQX9RrmDI"
   },
   "source": [
    "## By concentration\n",
    "## https://data.cdc.gov/Public-Health-Surveillance/NWSS-Public-SARS-CoV-2-Concentration-in-Wastewater/g653-rqe2/about_data \n",
    "## pcr_conc_smoothed"
   ]
  },
  {
   "cell_type": "code",
   "execution_count": null,
   "metadata": {
    "id": "arMhUFohrmDJ"
   },
   "outputs": [],
   "source": [
    "RSRC ='g653-rqe2'\n",
    "\n",
    "query = f\"\"\"\n",
    "SELECT\n",
    "*\n",
    "WHERE\n",
    "date>='2020-01-03T00:00:00.000' AND key_plot_id LIKE '%\\\\_{wstate}\\\\_%'\n",
    "ORDER BY\n",
    "date ASC\n",
    "LIMIT\n",
    "90000\n",
    "\"\"\"\n",
    "\n",
    "print(query)\n",
    "results = wclient.get(RSRC, query=query)\n",
    "res1=DataFrame.from_records(results)\n",
    "res1['pcr_conc_smoothed'] =  res1['pcr_conc_smoothed'].astype(float)\n",
    "res1['date'] = to_datetime(res1['date'])\n",
    "res1 = res1.join(grp.set_index('key_plot_id'), on='key_plot_id')\n",
    "w1_col_order=get_col_order(res1, 'wwtp_id')\n",
    "# need to groupby:\n",
    "res1['percentile_from_conc'] = res1.groupby('key_plot_id', group_keys=False).apply(lambda x: 100*x.pcr_conc_smoothed/ x.pcr_conc_smoothed.max())\n",
    "res1.to_csv(f'{wstate}_wastewater.csv')\n",
    "res1\n",
    "\n",
    "# why negative numbers for pcr_conc_smoothed???\n",
    "#     key_plot_id   date      pcr_conc_smoothed    normalization       wwtp_id\n",
    "# 57          527 2021-10-15      -2.875224e+06  flow-population   NWSS_ny_527\n",
    "# 58           52 2021-10-15       2.960513e+07  flow-population    NWSS_ny_52\n",
    "# 59         2182 2021-10-15       5.964828e+05  flow-population  NWSS_ny_2182\n",
    "# 60          426 2021-10-15       1.424451e+07  flow-population   NWSS_ny_426\n",
    "# 61          515 2021-10-15      -1.071621e+07  flow-population   NWSS_ny_515\n",
    "# 62          522 2021-10-15      -4.880599e+06  flow-population   NWSS_ny_522\n",
    "# 63          524 2021-10-15      -6.443013e+06  flow-population   NWSS_ny_524\n",
    "# 64          529 2021-10-15      -1.401466e+07  flow-population   NWSS_ny_529"
   ]
  },
  {
   "cell_type": "code",
   "execution_count": null,
   "metadata": {},
   "outputs": [],
   "source": [
    "plt.figure(figsize=(14,8))\n",
    "Normalize=False\n",
    "if Normalize:\n",
    "    res1.groupby('key_plot_id').apply(lambda x: plt.plot_date(x.date, x.pcr_conc_smoothed/x.pcr_conc_smoothed.max(), '.', ms=1, label=x.wwtp_id.iloc[0]))\n",
    "    plt.ylim(0.,1)\n",
    "    plt.ylabel('percentile concentration, normalized')\n",
    "else:\n",
    "    res1.groupby('key_plot_id').apply(lambda x: plt.plot_date(x.date, x.pcr_conc_smoothed, '.', ms=1, label=x.wwtp_id.iloc[0]))\n",
    "    plt.ylabel('percentile concentration')\n",
    "plt.legend(ncols=3)"
   ]
  },
  {
   "cell_type": "code",
   "execution_count": null,
   "metadata": {
    "id": "uVVhM-8_rmDK"
   },
   "outputs": [],
   "source": [
    "graph1 = sbrn.FacetGrid(res1, col='wwtp_id', col_order=w1_col_order, sharex=True, sharey=False, col_wrap=7)\n",
    "graph1.map(plt.plot_date, 'date', 'pcr_conc_smoothed', ms=1)\n",
    "graph1.tick_params('x', rotation=90)\n",
    "graph1.savefig(f'{wstate}-wastewater-1.png')\n",
    "\n",
    "graph4 = sbrn.FacetGrid(res1, col='wwtp_id', col_order=w1_col_order, sharex=True, sharey=False, col_wrap=7)\n",
    "graph4.map(plt.plot_date, 'date', 'percentile_from_conc', ms=1)\n",
    "graph4.tick_params('x', rotation=90)\n",
    "graph4.savefig(f'{wstate}-wastewater-2a.png')"
   ]
  },
  {
   "cell_type": "markdown",
   "metadata": {
    "id": "aw6gZDuYrmDK"
   },
   "source": [
    "## Metric data\n",
    "### https://data.cdc.gov/Public-Health-Surveillance/NWSS-Public-SARS-CoV-2-Wastewater-Metric-Data/2ew6-ywp6/about_data\n",
    "\n"
   ]
  },
  {
   "cell_type": "code",
   "execution_count": null,
   "metadata": {
    "id": "b_wlxb4yrmDL"
   },
   "outputs": [],
   "source": [
    "fieldStr = 'key_plot_id,date_start,date_end,percentile,ptc_15d'\n",
    "query = f\"\"\"\n",
    "SELECT\n",
    "{fieldStr}\n",
    "WHERE\n",
    "date_end>'2020-01-01T00:00:00.000' AND key_plot_id LIKE '%\\\\_{wstate}\\\\_%'\n",
    "LIMIT\n",
    "100000\n",
    "\"\"\"\n",
    "results = wclient.get(\"2ew6-ywp6\", query=query)\n",
    "res2=DataFrame.from_records(results)\n",
    "res2 = res2.join(grp.set_index('key_plot_id'), on='key_plot_id')\n",
    "res2['percentile'] =  res2['percentile'].astype(float)\n",
    "res2 = res2.astype({'population_served': int, 'sample_location_specify': 'Int64' })\n",
    "res2['date_end'] = to_datetime(res2['date_end'])\n",
    "w2_col_order=get_col_order(res2, 'wwtp_id')\n",
    "res2.to_csv(f'{wstate}_metric_data_wastewater.csv')\n",
    "res2"
   ]
  },
  {
   "cell_type": "markdown",
   "metadata": {},
   "source": [
    "## Percentile\n",
    "### needs comparison with the pcr_conc_smoothed\n",
    "\n",
    "### every graph should have at least one 100%. but not.\n",
    "#### This metric shows whether SARS-CoV-2 virus levels at a site are currently higher or lower than past historical levels at the same site.\n",
    "#### 0% means levels are the lowest they have been at the site; 100% means levels are the highest they have been at the site.\n",
    "#### Public health officials watch for increasing levels of the virus in wastewater over time and use this data to help make public health decisions."
   ]
  },
  {
   "cell_type": "code",
   "execution_count": null,
   "metadata": {
    "id": "h31pcFoarmDL"
   },
   "outputs": [],
   "source": [
    "graph2 = sbrn.FacetGrid(res2, col='wwtp_id', col_order=w2_col_order, sharex=True, sharey=False, col_wrap=7)\n",
    "graph2.map(plt.plot_date, 'date_end', 'percentile', ms=1)\n",
    "graph2.tick_params('x', rotation=90)\n",
    "graph2.savefig(f'{wstate}-wastewater-2.png')"
   ]
  },
  {
   "cell_type": "markdown",
   "metadata": {
    "id": "Gl-h_thgeqnt"
   },
   "source": [
    "### PTC_15D whatever that is, it doesn't LOOK like much. maybe i goofed here???\n",
    "\n",
    "### quoteth the Law(d):\n",
    "\n",
    "#### The percent change in SARS-CoV-2 RNA levels over the 15-day interval defined by 'date_start' and 'date_end'.\n",
    "#### Percent change is calculated as the modeled change over the interval, based on linear regression of log-transformed SARS-CoV-2 levels.\n",
    "#### SARS-CoV-2 RNA levels are wastewater concentrations that have been normalized for wastewater composition."
   ]
  },
  {
   "cell_type": "code",
   "execution_count": null,
   "metadata": {
    "id": "H9YvVe5tDJrh"
   },
   "outputs": [],
   "source": [
    "cutoff = float(input('enter upper end cutoff:  '))\n",
    "res2['ptc_15d'] =  res2['ptc_15d'].astype(float)\n",
    "ptc_cropped = res2[res2['ptc_15d']<cutoff]\n",
    "\n",
    "graph3 = sbrn.FacetGrid(ptc_cropped, col='wwtp_id', col_order=w2_col_order, sharex=True, sharey=False, col_wrap=7)\n",
    "graph3.map(plt.plot_date, 'date_end', 'ptc_15d', ms=1)\n",
    "graph3.tick_params('x', rotation=90)\n",
    "graph3.savefig(f'{wstate}-wastewater-3.png')\n",
    "\n",
    "plt.figure()\n",
    "ptc_cropped['ptc_15d'].plot(kind='hist', bins=400, logx=False, logy=True)\n",
    "plt.xlabel('% change 15 days')\n",
    "plt.title(f'Histogram of weird ptc_15d wastewater metric (>{cutoff} excluded)')"
   ]
  },
  {
   "cell_type": "markdown",
   "metadata": {},
   "source": [
    "### Let's now look at state and national, and eventually, county"
   ]
  },
  {
   "cell_type": "code",
   "execution_count": null,
   "metadata": {
    "id": "9SPA24GDylk7"
   },
   "outputs": [],
   "source": [
    "RSRC ='g653-rqe2'\n",
    "\n",
    "# date>='2020-01-03T00:00:00.000' AND key_plot_id LIKE '%_{wstate}_%'\n",
    "# date='2023-12-22T00:00:00.000'\n",
    "query = f\"\"\"\n",
    "SELECT\n",
    "key_plot_id,\n",
    "date,\n",
    "pcr_conc_smoothed\n",
    "WHERE\n",
    "date>='2020-01-01T00:00:00.000'\n",
    "LIMIT\n",
    "700000\n",
    "\"\"\"\n",
    "\n",
    "results = wclient.get(RSRC, query=query)\n",
    "res3=DataFrame.from_records(results)\n",
    "res3['pcr_conc_smoothed'] =  res3['pcr_conc_smoothed'].astype(float)\n",
    "res3['date'] = to_datetime(res3['date'])\n",
    "res3=res3[res3['pcr_conc_smoothed'].notna()]\n",
    "res3"
   ]
  },
  {
   "cell_type": "code",
   "execution_count": null,
   "metadata": {
    "id": "q4zaQ9tIzqqY"
   },
   "outputs": [],
   "source": [
    "\n",
    "x=res3.groupby('date')['pcr_conc_smoothed'].count()\n",
    "fig, ax = plt.subplots(1,1, figsize=(10,8))\n",
    "ax.plot_date(x.index, x, ms=1)\n",
    "ax.set_ylabel('# stations reporting')\n",
    "format_axis(ax)\n",
    "ax.tick_params('x', rotation=90)\n",
    "fig.suptitle('Number wastewater stations reporting')\n",
    "plt.savefig('num_waste_stations.png')"
   ]
  },
  {
   "cell_type": "markdown",
   "metadata": {
    "id": "fcxzQEXkJn4q"
   },
   "source": [
    "### join dataset to the facility database"
   ]
  },
  {
   "cell_type": "code",
   "execution_count": null,
   "metadata": {
    "id": "-9yp7u5jcVrV"
   },
   "outputs": [],
   "source": [
    "full = res3.join(grp.set_index('key_plot_id'), on='key_plot_id')\n",
    "full.sort_values('date')"
   ]
  },
  {
   "cell_type": "code",
   "execution_count": null,
   "metadata": {
    "id": "QzXQEXCgkPJl"
   },
   "outputs": [],
   "source": [
    "full.dtypes\n",
    "def national_pop_averaged_conc(x):\n",
    "    y = x['pcr_conc_smoothed'] * x['population_served']/tot_pop\n",
    "    return y.sum()"
   ]
  },
  {
   "cell_type": "code",
   "execution_count": null,
   "metadata": {
    "id": "eq2mFvmLZBKb"
   },
   "outputs": [],
   "source": [
    "tot_pop=grp['population_served'].sum()\n",
    "tot_pop"
   ]
  },
  {
   "cell_type": "code",
   "execution_count": null,
   "metadata": {
    "id": "_9n3r0ydlUPz"
   },
   "outputs": [],
   "source": [
    "ngrp = full.groupby(['date']).apply(lambda x: x['pcr_conc_smoothed'].mean())\n",
    "plt.figure()\n",
    "plt.plot_date(ngrp.index, ngrp, ms=1)\n",
    "plt.ylabel('concentration average')\n",
    "plt.savefig('wastewater_by_nation.png')\n",
    "ngrp"
   ]
  },
  {
   "cell_type": "code",
   "execution_count": null,
   "metadata": {},
   "outputs": [],
   "source": [
    "sgrp = full.groupby(['date', 'wwtp_jurisdiction']).apply(lambda x: x['pcr_conc_smoothed'].mean()).reset_index(name='concentration average')\n",
    "graph_conc_state = sbrn.FacetGrid(sgrp, col='wwtp_jurisdiction', col_order=get_col_order(sgrp, 'wwtp_jurisdiction'), sharex=True, sharey=False, col_wrap=8)\n",
    "graph_conc_state.map(plt.plot_date, 'date', 'concentration average', ms=1)\n",
    "graph_conc_state.tick_params('x', rotation=90)\n",
    "graph_conc_state.savefig('wastewater_by_state.png')"
   ]
  },
  {
   "cell_type": "code",
   "execution_count": null,
   "metadata": {},
   "outputs": [],
   "source": [
    "res3[res3['pcr_conc_smoothed']<0].groupby('key_plot_id').apply(lambda x: x.pcr_conc_smoothed.count()).to_csv('below-zero.csv')"
   ]
  },
  {
   "cell_type": "code",
   "execution_count": null,
   "metadata": {},
   "outputs": [],
   "source": [
    "fieldStr = 'wwtp_jurisdiction,wwtp_id,reporting_jurisdiction,sample_location,sample_location_specify,key_plot_id,county_names,county_fips,population_served,date_end'\n",
    "query = f\"\"\"\n",
    "SELECT\n",
    "{fieldStr}\n",
    "WHERE\n",
    "date_end>'2020-01-01T00:00:00.000' AND reporting_jurisdiction='West Virginia' \n",
    "LIMIT\n",
    "300000\n",
    "\"\"\"\n",
    "\n",
    "        \n",
    "results = wclient.get(\"2ew6-ywp6\", query=query)\n",
    "res0=DataFrame.from_records(results)\n",
    "print(res0.groupby('wwtp_id').nth(0))\n",
    "print(res0[res0['wwtp_id'].isna()])\n",
    "res0"
   ]
  },
  {
   "cell_type": "code",
   "execution_count": null,
   "metadata": {},
   "outputs": [],
   "source": [
    "RSRC ='2ew6-ywp6'\n",
    "\n",
    "# date>='2020-01-03T00:00:00.000' AND key_plot_id LIKE '%_{wstate}_%'\n",
    "# date='2023-12-22T00:00:00.000'\n",
    "query = f\"\"\"\n",
    "SELECT\n",
    "key_plot_id,\n",
    "date_end,\n",
    "percentile\n",
    "WHERE\n",
    "date_end>='2020-01-01T00:00:00.000'\n",
    "LIMIT\n",
    "700000\n",
    "\"\"\"\n",
    "\n",
    "results = wclient.get(RSRC, query=query)\n",
    "res4=DataFrame.from_records(results)\n",
    "res4['percentile'] =  res4['percentile'].astype(float)\n",
    "res4['date_end'] = to_datetime(res4['date_end'])\n",
    "res4=res4[res4['percentile'].notna()]\n",
    "\n",
    "\n",
    "x=res4.groupby('date_end')['percentile'].count()\n",
    "fig, ax = plt.subplots(1,1, figsize=(10,8))\n",
    "ax.plot_date(x.index, x, ms=1)\n",
    "ax.set_ylabel('# stations reporting')\n",
    "format_axis(ax)\n",
    "ax.tick_params('x', rotation=90)\n",
    "fig.suptitle('Number wastewater stations reporting')\n",
    "plt.savefig('num_waste_stations_per.png')\n",
    "\n",
    "full_per = res4.join(grp.set_index('key_plot_id'), on='key_plot_id')\n",
    "full_per.sort_values('date_end')\n",
    "full_per=full_per.replace(999., 0.)\n",
    "\n",
    "ngrp_per = full_per.groupby(['date_end']).apply(lambda x: x['percentile'].mean())\n",
    "plt.figure()\n",
    "plt.plot_date(ngrp_per.index, ngrp_per, ms=1)\n",
    "plt.ylabel('concentration average')\n",
    "plt.savefig('wastewater_by_nation_per.png')\n",
    "\n",
    "sgrp_per = full_per.groupby(['date_end', 'wwtp_jurisdiction']).apply(lambda x: x['percentile'].mean()).reset_index(name='average concentration')\n",
    "graph_perc_state = sbrn.FacetGrid(sgrp_per, col='wwtp_jurisdiction', col_order=get_col_order(sgrp, 'wwtp_jurisdiction'), sharex=True, sharey=False, col_wrap=8)\n",
    "graph_perc_state.map(plt.plot_date, 'date_end', 'average concentration', ms=1)\n",
    "graph_perc_state.tick_params('x', rotation=90)\n",
    "graph_perc_state.savefig('wastewater_by_state_per.png')"
   ]
  },
  {
   "cell_type": "code",
   "execution_count": null,
   "metadata": {},
   "outputs": [],
   "source": [
    "def _add_one(limit):\n",
    "    one=0\n",
    "    while one<limit:\n",
    "        yield one\n",
    "        one = one+1\n",
    "add_one = _add_one(135)\n",
    "plt.figure()\n",
    "res4[res4['percentile']==999.].groupby('key_plot_id').apply(lambda x: plt.plot_date(x['date_end'], x['percentile']+next(add_one), ms=1))"
   ]
  },
  {
   "cell_type": "code",
   "execution_count": null,
   "metadata": {},
   "outputs": [],
   "source": [
    "import plotly.express as px\n",
    "fig = px.bar(x=[\"a\", \"b\", \"c\"], y=[1, 3, 2])\n",
    "\n",
    "import plotly.graph_objects as go\n",
    "fig_widget = go.FigureWidget(fig)\n",
    "fig_widget"
   ]
  },
  {
   "cell_type": "code",
   "execution_count": null,
   "metadata": {},
   "outputs": [],
   "source": []
  },
  {
   "cell_type": "code",
   "execution_count": null,
   "metadata": {},
   "outputs": [],
   "source": []
  }
 ],
 "metadata": {
  "colab": {
   "provenance": []
  },
  "kernelspec": {
   "display_name": "Python 3 (ipykernel)",
   "language": "python",
   "name": "python3"
  },
  "language_info": {
   "codemirror_mode": {
    "name": "ipython",
    "version": 3
   },
   "file_extension": ".py",
   "mimetype": "text/x-python",
   "name": "python",
   "nbconvert_exporter": "python",
   "pygments_lexer": "ipython3",
   "version": "3.11.6"
  }
 },
 "nbformat": 4,
 "nbformat_minor": 4
}
