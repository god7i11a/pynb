{
  "cells": [
    {
      "cell_type": "markdown",
      "metadata": {
        "id": "DNadct5FrmCl"
      },
      "source": [
        "# Hospitalization and Wastewater Data Retrieval and Visualization\n",
        "#         People's CDC   http://peoplescdc.org\n",
        "#               Updated 01/17/2024 @12:26 PM  by Les Schaffer"
      ]
    },
    {
      "cell_type": "markdown",
      "metadata": {
        "id": "8278k8-grmCs"
      },
      "source": [
        "## Setup: be sure to run these first two cells"
      ]
    },
    {
      "cell_type": "code",
      "execution_count": null,
      "metadata": {
        "id": "V_b-PpmArmCu"
      },
      "outputs": [],
      "source": [
        "import os\n",
        "import re\n",
        "import sys\n",
        "\n",
        "try:\n",
        "    from google.colab import userdata, output\n",
        "    output.enable_custom_widget_manager()\n",
        "    api_key_id = userdata.get('api_key_id')\n",
        "    api_key_secret = userdata.get('api_key_secret')\n",
        "    api_app_token = userdata.get('api_app_token')\n",
        "    ! pip install sodapy\n",
        "    ! pip install ipympl\n",
        "    ! pip install mapclassify\n",
        "    ! pip install contextily\n",
        "    COLAB = True\n",
        "except ModuleNotFoundError:\n",
        "    sys.path.append(os.path.abspath('../'))\n",
        "    from tokens import api_key_id, api_key_secret, api_app_token\n",
        "    COLAB=False\n",
        "\n",
        "get_ipython().run_line_magic('matplotlib', 'ipympl')\n",
        "\n",
        "from locale import atof\n",
        "import math\n",
        "from numpy import datetime_as_string\n",
        "from geopandas import GeoDataFrame, points_from_xy\n",
        "from folium import Element, TileLayer, Map, Circle, CircleMarker, __version__ as fol_version\n",
        "import branca.colormap as cm\n",
        "from folium.map import Popup\n",
        "from sodapy import Socrata\n",
        "from pandas import DataFrame, to_datetime, Series, concat, isna\n",
        "from matplotlib import pyplot as plt\n",
        "import matplotlib.dates as mdates\n",
        "import seaborn as sbrn\n",
        "import contextily as cx\n",
        "import xyzservices.providers as xyz\n",
        "\n",
        "# set up Socrata clients for data queries\n",
        "# hospital data by facility and by state\n",
        "URL = 'healthdata.gov'\n",
        "hclient = Socrata(URL, api_app_token,  username=api_key_id,   password=api_key_secret, timeout=20 )\n",
        "\n",
        "# wastewater data by facility\n",
        "URL = 'data.cdc.gov'\n",
        "wclient = Socrata(URL, api_app_token,  username=api_key_id,   password=api_key_secret, timeout=20 )"
      ]
    },
    {
      "cell_type": "code",
      "execution_count": null,
      "metadata": {
        "id": "jfyU0zL2OoaB"
      },
      "outputs": [],
      "source": [
        "def format_axis(ax=None):\n",
        "    _num2date = mdates.num2date\n",
        "\n",
        "    def formatter(x, y):\n",
        "        the_date = _num2date(x).date().isoformat()\n",
        "        return f'x={the_date}, y={y:.4g}'\n",
        "\n",
        "    if ax is None:\n",
        "        ax = plt.gca()\n",
        "    ax.format_coord = formatter\n",
        "\n",
        "def _get_lonlat(x):\n",
        "    x = x['geocoded_hospital_address']\n",
        "    if isinstance(x, type(1.00)):\n",
        "        return x, x\n",
        "    if isinstance(x, str):\n",
        "        # POINT (-91.634487925 35.768331958)\n",
        "        lon, lat = map(atof, x[7:-1].split(' '))\n",
        "        return (lon, lat)\n",
        "    return x['coordinates']"
      ]
    },
    {
      "cell_type": "markdown",
      "metadata": {
        "id": "UfAMeaYTrmCx"
      },
      "source": [
        "# Hospitalization -- by facility\n",
        "\n",
        "## metadata"
      ]
    },
    {
      "cell_type": "code",
      "execution_count": null,
      "metadata": {
        "id": "fUIn1ucBrmC0"
      },
      "outputs": [],
      "source": [
        "RSRC ='anag-cw7u'\n",
        "metadata = hclient.get_metadata(RSRC)\n",
        "print([x['name'] for x in metadata['columns']])\n",
        "print(metadata.keys())\n",
        "print(metadata['rowsUpdatedBy'])\n",
        "print(metadata['owner'])\n",
        "metadata['metadata']\n",
        "metadata['columns']\n",
        "\n",
        "meta_amount = [x for x in metadata['columns'] if x['name'] == 'inpatient_beds_used_covid_7_day_avg']\n",
        "meta_amount"
      ]
    },
    {
      "cell_type": "markdown",
      "metadata": {
        "id": "G6ZUpXeWrmC1"
      },
      "source": [
        "## what dates are available"
      ]
    },
    {
      "cell_type": "code",
      "execution_count": null,
      "metadata": {
        "id": "o6bbVXW2rmC2"
      },
      "outputs": [],
      "source": [
        "RSRC ='anag-cw7u'\n",
        "query=\"\"\"\n",
        "SELECT\n",
        "distinct collection_week\n",
        "ORDER BY\n",
        "collection_week\n",
        "LIMIT\n",
        "3000\n",
        "\"\"\"\n",
        "# Use the 'where' argument to filter the data before downloading it\n",
        "results = hclient.get(RSRC, query=query)   # AND hospital_subtype = 'Children's Hospitals'\")\n",
        "results=DataFrame.from_records(results)\n",
        "print(\"Number of results downloaded: {}\".format(len(results)))\n",
        "\n",
        "results['collection_week'] = to_datetime(results['collection_week'])\n",
        "ldates = results['collection_week'].sort_values().unique()\n",
        "last_date = datetime_as_string(ldates[-1], unit='D')\n",
        "print(ldates)"
      ]
    },
    {
      "cell_type": "markdown",
      "source": [
        "## maps by facility, select date from list above by calendar/selector on right"
      ],
      "metadata": {
        "id": "vbOhlm2IhleX"
      }
    },
    {
      "cell_type": "code",
      "source": [
        "selected_date = \"2023-12-24\" # @param {type:\"date\"}\n",
        "\n",
        "RSRC ='anag-cw7u'\n",
        "query = f\"\"\"\n",
        "SELECT\n",
        "state,\n",
        "city,\n",
        "hospital_name,\n",
        "all_adult_hospital_beds_7_day_avg,\n",
        "all_adult_hospital_inpatient_beds_7_day_avg,\n",
        "total_adult_patients_hospitalized_confirmed_covid_7_day_avg,\n",
        "total_adult_patients_hospitalized_confirmed_and_suspected_covid_7_day_avg,\n",
        "collection_week,\n",
        "hospital_subtype,\n",
        "fips_code,\n",
        "hospital_pk,\n",
        "is_metro_micro,\n",
        "geocoded_hospital_address\n",
        "WHERE\n",
        "collection_week=='{selected_date}T00:00:00.000000000'\n",
        "AND hospital_subtype != \"Childrens Hospitals\"\n",
        "ORDER BY\n",
        "collection_week\n",
        "LIMIT\n",
        "40000\n",
        "\"\"\"\n",
        "# Use the 'where' argument to filter the data before downloading it\n",
        "results = hclient.get(RSRC, query=query)   # AND hospital_subtype = 'Children's Hospitals'\")\n",
        "resfac=DataFrame.from_records(results)\n",
        "print(\"Number of results downloaded: {}\".format(len(results)))\n",
        "resfac=resfac.replace('-999999.0', '2.0')\n",
        "resfac['total_adult_patients_hospitalized_confirmed_covid_7_day_avg']=resfac['total_adult_patients_hospitalized_confirmed_covid_7_day_avg'].astype(float)\n",
        "resfac['all_adult_hospital_inpatient_beds_7_day_avg']=resfac['all_adult_hospital_inpatient_beds_7_day_avg'].astype(float)\n",
        "resfac['collection_week'] = to_datetime(resfac['collection_week'])\n",
        "resfac['frac'] = resfac['total_adult_patients_hospitalized_confirmed_covid_7_day_avg']/resfac['all_adult_hospital_inpatient_beds_7_day_avg']\n",
        "\n",
        "resfac[['lon','lat']]=resfac.apply(_get_lonlat, axis=1, result_type='expand')\n",
        "geo = points_from_xy(resfac['lon'], resfac['lat'])\n",
        "resfac = GeoDataFrame(resfac, geometry=geo)\n",
        "resfac = resfac.set_crs(epsg=4236, allow_override=True)\n",
        "resfac = resfac.to_crs(\"ESRI:102003\")\n",
        "\n",
        "resfac.loc[(resfac['frac']>.1) & (resfac['all_adult_hospital_inpatient_beds_7_day_avg']>20.)]"
      ],
      "metadata": {
        "id": "542Gt-DPhpVz"
      },
      "execution_count": null,
      "outputs": []
    },
    {
      "cell_type": "markdown",
      "source": [
        "## Zoom in and pan, then hover or click on circles"
      ],
      "metadata": {
        "id": "l83TTKZGbO1n"
      }
    },
    {
      "cell_type": "code",
      "source": [
        "# us_discrete_bubble_bounds = dict(west=-126, east=-67, south=24.9, north=49.2)\n",
        "# folium version = 0.14\n",
        "\n",
        "fracmin, bedsmin= map( atof, input('enter minimum frac, comma, beds to display  ').split(','))\n",
        "title=f'# beds >= {bedsmin} and frac >= {fracmin} for {selected_date}'\n",
        "print(title)\n",
        "mapfac=resfac.loc[(resfac['frac']>fracmin) & (resfac['all_adult_hospital_inpatient_beds_7_day_avg']>bedsmin)]\n",
        "mapfac = mapfac.drop(columns='collection_week')\n",
        "mapfac['percent'] = mapfac['frac'].apply(lambda x: f'{100.*x:.2f}%')\n",
        "mapfac.rename(columns={'all_adult_hospital_inpatient_beds_7_day_avg':'beds'}, inplace=True)\n",
        "\n",
        "m=Map(location=[44,-95], width=2300, height=900, min_lat=24.9, max_lat=49.2, min_lon=-126, max_lon=-67, max_bouds=True, zoom_start=5)\n",
        "\n",
        "#TileLayer(\"CartoDB positron\", show=False).add_to(m)\n",
        "title_html = f'<h1 align=\"center\", style=\"font-size:20px\">{title}</h1>'\n",
        "m.get_root().html.add_child(Element(title_html))\n",
        "\n",
        "# https://python-visualization.github.io/folium/latest/advanced_guide/colormaps.html\n",
        "\n",
        "colormap = cm.LinearColormap(['orange', 'red', 'green', 'blue', 'black'], vmin=fracmin, vmax=0.25, index=[fracmin, 0.0765, 0.0882, 0.2, 0.25])\n",
        "\n",
        "#     cmarkD = {Circle: 20000.0*local_deformation, CircleMarker:100 }\n",
        "for hosp in mapfac.itertuples():\n",
        "    local_deformation = math.cos(hosp.lat * math.pi / 180)\n",
        "\n",
        "    CircleMarker(\n",
        "        location=[hosp.lat, hosp.lon],\n",
        "        popup=Popup('<b>%s<br>  %s<br>  %.1f beds' % (hosp.hospital_name, hosp.percent, hosp.beds), max_width=300),\n",
        "        radius=int(hosp.frac * 50),\n",
        "        tooltip='%s'%hosp.percent,\n",
        "        color=colormap(hosp.frac),\n",
        "        fill=True,\n",
        "        fill_color=colormap(hosp.frac)\n",
        "    ).add_to(m)\n",
        "m.add_child(colormap)\n",
        "m.save('facility_bed_percent.html')\n",
        "m"
      ],
      "metadata": {
        "id": "0J5gmzhsXOvL"
      },
      "execution_count": null,
      "outputs": []
    },
    {
      "cell_type": "markdown",
      "source": [
        "## Histogram of hospitals in each category of \"fraction of beds used for covid\""
      ],
      "metadata": {
        "id": "vPWxm5UmAmOE"
      }
    },
    {
      "cell_type": "code",
      "source": [
        "fig,(ax1,ax2)= plt.subplots(2,1, figsize=(10,10), sharex=True)\n",
        "_, _bins, _= ax1.hist(resfac['frac'], bins=200)\n",
        "ax1.set_ylabel('# of hospitals')\n",
        "ax1.set_title('full dataset')\n",
        "ax1.grid()\n",
        "format_axis(ax1)\n",
        "ax2.hist(mapfac['frac'], bins=_bins)\n",
        "ax2.set_title('filtered dataset')\n",
        "ax2.set_xlabel('fraction of inpatient beds used for COVID patients')\n",
        "ax2.set_ylabel('# of hospitals')\n",
        "ax2.grid()\n",
        "format_axis(ax2)"
      ],
      "metadata": {
        "id": "Q-HNLKDu_VXG"
      },
      "execution_count": null,
      "outputs": []
    },
    {
      "cell_type": "code",
      "source": [
        "# https://www.martinalarcon.org/2018-12-31-d-geopandas/\n",
        "# https://docs.stadiamaps.com/guides/migrating-from-stamen-map-tiles/\n",
        "\n",
        "ax = mapfac.plot('frac', scheme='quantiles', k=5, categorical=False, figsize=(10, 10), legend=True)\n",
        "ax.set_xlim(-.24444e7, 0.2274e7)\n",
        "ax.set_ylim(-1.399e6, 1.55e6)\n",
        "api_key = \"c9a3c30d-586e-4eca-9163-49c747840f30\"\n",
        "URL = 'https://tiles.stadiamaps.com/tiles/stamen_terrain/{z}/{x}/{y}{r}.png?api_key=c9a3c30d-586e-4eca-9163-49c747840f30'\n",
        "cx.add_basemap(ax, crs=mapfac.crs, source=URL)\n",
        "ax.tick_params(left=False, right=False, labelleft=False, labelbottom=False, bottom=False)\n",
        "ax.set_title(f'Fraction of covid hospital beds ({ldates[-1]})')\n",
        "ax.get_legend().set_title('Quantiles')"
      ],
      "metadata": {
        "id": "X7_scOH3LO44"
      },
      "execution_count": null,
      "outputs": []
    },
    {
      "cell_type": "code",
      "source": [
        "mapfac"
      ],
      "metadata": {
        "id": "rMekHhahJwb_"
      },
      "execution_count": null,
      "outputs": []
    },
    {
      "cell_type": "markdown",
      "metadata": {
        "id": "C8XKXN4qrmC4"
      },
      "source": [
        "## make tables and plots\n",
        "### Children's hospitals: covid bed fraction > 20%"
      ]
    },
    {
      "cell_type": "code",
      "execution_count": null,
      "metadata": {
        "id": "mWYdKTMarmC6"
      },
      "outputs": [],
      "source": [
        "query = \"\"\"\n",
        "SELECT\n",
        "collection_week,\n",
        "hospital_name,\n",
        "all_pediatric_inpatient_beds_7_day_avg,\n",
        "total_pediatric_patients_hospitalized_confirmed_and_suspected_covid_7_day_avg,\n",
        "inpatient_beds_7_day_avg\n",
        "WHERE\n",
        "collection_week>'2020-03-01T00:00:00.000'\n",
        "AND hospital_subtype = \"Childrens Hospitals\"\n",
        "ORDER BY\n",
        "collection_week\n",
        "LIMIT\n",
        "40000\n",
        "\"\"\"\n",
        "RSRC ='anag-cw7u'\n",
        "results = hclient.get(RSRC, query=query)\n",
        "res=DataFrame.from_records(results)\n",
        "res=res.replace('-999999.0', '2.0')\n",
        "res['total_pediatric_patients_hospitalized_confirmed_and_suspected_covid_7_day_avg'] = res['total_pediatric_patients_hospitalized_confirmed_and_suspected_covid_7_day_avg'].astype(float)\n",
        "res['all_pediatric_inpatient_beds_7_day_avg']=res['all_pediatric_inpatient_beds_7_day_avg'].astype(float)\n",
        "res['inpatient_beds_7_day_avg'] = res['inpatient_beds_7_day_avg'].astype(float)\n",
        "res['percent'] = 100*res['total_pediatric_patients_hospitalized_confirmed_and_suspected_covid_7_day_avg']/res['all_pediatric_inpatient_beds_7_day_avg']\n",
        "# cases where all_pediatric_inpatient_beds_7_day_avg is reported as 0!!!! then use inpatient_beds_7_day_avg\n",
        "use_inpatient_beds = res['all_pediatric_inpatient_beds_7_day_avg']==0.0\n",
        "res.loc[use_inpatient_beds, 'percent'] = 100*res[use_inpatient_beds]['total_pediatric_patients_hospitalized_confirmed_and_suspected_covid_7_day_avg']/res[use_inpatient_beds]['inpatient_beds_7_day_avg']\n",
        "\n",
        "num = res.loc[:,'percent'].count()\n",
        "print(f'Number of times facilities reporting = {num}')\n",
        "hidden = res['total_pediatric_patients_hospitalized_confirmed_and_suspected_covid_7_day_avg']==2.0\n",
        "num = res.loc[hidden,'percent'].count()\n",
        "print(f'Number of times facilities reporting -999999 --> 2 = {num}')\n",
        "plt.figure()\n",
        "res.loc[~hidden, 'percent'].plot(kind='hist', bins=100, logy=True)\n",
        "plt.gcf().suptitle('# reports of percent usage')\n",
        "plt.gca().set_xlabel('percent usage')\n",
        "res[res['percent']>=20].sort_values('percent', ascending=False)"
      ]
    },
    {
      "cell_type": "markdown",
      "metadata": {
        "id": "f3uOKGPkoqma"
      },
      "source": [
        "### lets look at average usage over the entire pandemic > 5% !!!"
      ]
    },
    {
      "cell_type": "code",
      "execution_count": null,
      "metadata": {
        "id": "D-UNuk3_rmC8"
      },
      "outputs": [],
      "source": [
        "df=res.groupby(['hospital_name',])['percent'].mean()\n",
        "df[df>=5.]"
      ]
    },
    {
      "cell_type": "markdown",
      "metadata": {
        "id": "KNihy5tvS44Q"
      },
      "source": [
        "### Pediatric admission, nationwide"
      ]
    },
    {
      "cell_type": "code",
      "execution_count": null,
      "metadata": {
        "id": "A52MXsLUrmC9"
      },
      "outputs": [],
      "source": [
        "query = \"\"\"\n",
        "SELECT\n",
        "previous_day_admission_pediatric_covid_confirmed_7_day_sum,\n",
        "collection_week\n",
        "WHERE\n",
        "collection_week>'2020-01-03T00:00:00.000' AND hospital_subtype = \"Childrens Hospitals\"\n",
        "ORDER BY\n",
        "collection_week ASC\n",
        "LIMIT\n",
        "30000\n",
        "\"\"\"\n",
        "RSRC ='anag-cw7u'\n",
        "results = hclient.get(RSRC, query=query)\n",
        "res=DataFrame.from_records(results)\n",
        "res=res.replace('-999999', '2')\n",
        "res['collection_week'] = to_datetime(res['collection_week'])\n",
        "res=res[res['previous_day_admission_pediatric_covid_confirmed_7_day_sum'].notna()]\n",
        "res['previous_day_admission_pediatric_covid_confirmed_7_day_sum']=res['previous_day_admission_pediatric_covid_confirmed_7_day_sum'].astype(int)\n",
        "df=res.groupby('collection_week').sum()\n",
        "plt.figure()\n",
        "plt.plot(df['previous_day_admission_pediatric_covid_confirmed_7_day_sum'])\n",
        "plt.tick_params('x', rotation=90)\n",
        "plt.title('pediatric admissions -- 7-day sums')\n",
        "format_axis()\n",
        "res"
      ]
    },
    {
      "cell_type": "markdown",
      "metadata": {
        "id": "zbawBNkuR2eb"
      },
      "source": [
        "## Adults"
      ]
    },
    {
      "cell_type": "code",
      "execution_count": null,
      "metadata": {
        "id": "chCNOyNxR2ec"
      },
      "outputs": [],
      "source": [
        "query = \"\"\"\n",
        "SELECT\n",
        "previous_day_admission_adult_covid_confirmed_7_day_sum,\n",
        "total_adult_patients_hospitalized_confirmed_covid_7_day_avg,\n",
        "total_adult_patients_hospitalized_confirmed_covid_7_day_sum,\n",
        "collection_week\n",
        "WHERE\n",
        "collection_week>'2020-01-03T00:00:00.000' AND hospital_subtype != \"Childrens Hospitals\"\n",
        "ORDER BY\n",
        "collection_week ASC\n",
        "LIMIT\n",
        "1000000\n",
        "\"\"\"\n",
        "RSRC ='anag-cw7u'\n",
        "results = hclient.get(RSRC, query=query)\n",
        "ares=DataFrame.from_records(results)\n",
        "ares=ares.replace('-999999', '2')\n",
        "ares=ares.replace('-999999.0', '2.0')\n",
        "ares['collection_week'] = to_datetime(ares['collection_week'])\n",
        "\n",
        "ares=ares[ares['previous_day_admission_adult_covid_confirmed_7_day_sum'].notna()]\n",
        "ares['previous_day_admission_adult_covid_confirmed_7_day_sum']=ares['previous_day_admission_adult_covid_confirmed_7_day_sum'].astype(int)\n",
        "\n",
        "ares=ares[ares['total_adult_patients_hospitalized_confirmed_covid_7_day_avg'].notna()]\n",
        "ares['total_adult_patients_hospitalized_confirmed_covid_7_day_avg']=ares['total_adult_patients_hospitalized_confirmed_covid_7_day_avg'].astype(float)\n",
        "\n",
        "ares=ares[ares['total_adult_patients_hospitalized_confirmed_covid_7_day_sum'].notna()]\n",
        "ares['total_adult_patients_hospitalized_confirmed_covid_7_day_sum']=ares['total_adult_patients_hospitalized_confirmed_covid_7_day_sum'].astype(float)\n",
        "ares"
      ]
    },
    {
      "cell_type": "code",
      "execution_count": null,
      "metadata": {
        "id": "TdG4DWpGR2ec"
      },
      "outputs": [],
      "source": [
        "df=ares.groupby('collection_week').sum()\n",
        "fig, (ax1,ax2) = plt.subplots(2,1, sharex=True, figsize=(10,8))\n",
        "ax1.plot(df['previous_day_admission_adult_covid_confirmed_7_day_sum']/7)\n",
        "ax1.tick_params('x', rotation=90)\n",
        "ax1.set_title('adult admissions -- 7-day ave')\n",
        "\n",
        "ax2.plot(df['total_adult_patients_hospitalized_confirmed_covid_7_day_avg'])\n",
        "ax2.tick_params('x', rotation=90)\n",
        "ax2.set_title('adult hospitalized -- 7-day ave')"
      ]
    },
    {
      "cell_type": "markdown",
      "metadata": {
        "id": "ibjnkWzNrmC_"
      },
      "source": [
        "# by state and nation, adult\n",
        "## metadata first, only if needed"
      ]
    },
    {
      "cell_type": "code",
      "execution_count": null,
      "metadata": {
        "id": "Nr5dtCaJrmC_"
      },
      "outputs": [],
      "source": [
        "RSRC ='g62h-syeh'\n",
        "metadata = hclient.get_metadata(RSRC)\n",
        "\n",
        "# print([x['name'] for x in metadata['columns']])\n",
        "print(metadata.keys())\n",
        "print(metadata['rowsUpdatedBy'])\n",
        "print(metadata['owner'])\n",
        "metadata['metadata']\n",
        "metadata['columns']"
      ]
    },
    {
      "cell_type": "markdown",
      "metadata": {
        "id": "LzybkIZ-pPzG"
      },
      "source": [
        "## get the data"
      ]
    },
    {
      "cell_type": "code",
      "execution_count": null,
      "metadata": {
        "id": "l5QTAciMrmDA"
      },
      "outputs": [],
      "source": [
        "RSRC ='g62h-syeh'\n",
        "query = \"\"\"\n",
        "SELECT\n",
        "hospital_onset_covid,\n",
        "deaths_covid,\n",
        "previous_day_admission_adult_covid_confirmed,\n",
        "percent_of_inpatients_with_covid,\n",
        "state,\n",
        "date\n",
        "WHERE\n",
        "date>'2020-01-03T00:00:00.000'\n",
        "ORDER BY\n",
        "date ASC\n",
        "LIMIT\n",
        "100000\n",
        "\"\"\"\n",
        "colL = ['hospital_onset_covid', 'deaths_covid', 'previous_day_admission_adult_covid_confirmed', 'percent_of_inpatients_with_covid']\n",
        "results = hclient.get(RSRC, query=query)\n",
        "hsres=DataFrame.from_records(results)\n",
        "hsres.fillna(0,inplace=True)\n",
        "hsres['date'] = to_datetime(hsres['date'])\n",
        "for colN in colL[:-1]:\n",
        "    hsres[colN] = hsres[colN].astype(int)\n",
        "\n",
        "hsres[colL[-1]] = hsres[colL[-1]].astype(float)\n",
        "hsres.sort_values(['state','date'], inplace=True, ignore_index=True)\n",
        "hs_col_order = hsres['state'].unique().tolist()\n",
        "hs_col_order.sort()\n",
        "\n",
        "moving_average=True\n",
        "if moving_average:\n",
        "    col_avgL = [col+'_avg' for col in colL]\n",
        "    grouped = hsres.groupby('state', group_keys=True)\n",
        "    rolldf = grouped.rolling('7D', on='date', axis=0, center=False).mean()\n",
        "    # rolldf.reset_index(drop=True)\n",
        "\n",
        "\n",
        "hsres[col_avgL] = rolldf.reset_index()[colL]\n",
        "print(f\"last date: {hsres['date'].sort_values().unique()[-1]}\")\n",
        "hsres.to_csv('hsres.csv')"
      ]
    },
    {
      "cell_type": "markdown",
      "metadata": {
        "id": "3uThzuwlrmDC"
      },
      "source": [
        "## Visualize the data sets\n",
        "### Nationwide"
      ]
    },
    {
      "cell_type": "code",
      "execution_count": null,
      "metadata": {
        "id": "OZK5m3k9aWw9"
      },
      "outputs": [],
      "source": [
        "fig,axL = plt.subplots(4,1, sharex=True, figsize=(12,9))\n",
        "fig.suptitle(f'Nationwide')\n",
        "ylabL = ('#', '#', '#', 'fraction')\n",
        "for stat, stat_avg, ax, ylab in zip( colL, col_avgL, axL, ylabL):\n",
        "    national = hsres.groupby('date')[stat].sum()\n",
        "    ax.plot_date(national.index,national,ms=1)\n",
        "    national = hsres.groupby('date')[stat_avg].sum()\n",
        "    ax.plot_date(national.index,national,'k-.', ms=1)\n",
        "    ax.tick_params('x', rotation=90)\n",
        "    ax.set_ylabel(ylab)\n",
        "    ax.set_title(stat)\n",
        "    format_axis(ax)\n",
        "\n",
        "fig.savefig(f'US-adult_hosp_stats.png')"
      ]
    },
    {
      "cell_type": "markdown",
      "metadata": {
        "id": "uSUUJsjtR2eh"
      },
      "source": [
        "### hospital_onset_covid"
      ]
    },
    {
      "cell_type": "code",
      "execution_count": null,
      "metadata": {
        "id": "lTF_fTlnrmDD"
      },
      "outputs": [],
      "source": [
        "graph1 = sbrn.FacetGrid(hsres, col='state', col_order=hs_col_order, sharex=True, sharey=False, col_wrap=7)\n",
        "graph1.map(plt.plot_date, 'date', 'hospital_onset_covid', ms=1)\n",
        "graph1.map(plt.plot_date, 'date', 'hospital_onset_covid_avg', color='k', linestyle='-.', ms=1)\n",
        "graph1.set_ylabels('hospital_onset_covid')\n",
        "graph1.tick_params('x', rotation=90)\n",
        "graph1.savefig('hospital_onset_covid.png')"
      ]
    },
    {
      "cell_type": "markdown",
      "metadata": {
        "id": "D0Qyg0HEeSJH"
      },
      "source": [
        "### deaths_covid"
      ]
    },
    {
      "cell_type": "code",
      "execution_count": null,
      "metadata": {
        "id": "lLuYH8zSrmDD"
      },
      "outputs": [],
      "source": [
        "graph2 = sbrn.FacetGrid(hsres, col='state', col_order=hs_col_order, sharex=True, sharey=False, col_wrap=8)\n",
        "graph2.map(plt.plot_date, 'date', 'deaths_covid', ms=1)\n",
        "graph2.map(plt.plot_date, 'date', 'deaths_covid_avg', color='k', linestyle='-.', ms=1)\n",
        "graph2.tick_params('x', rotation=90)\n",
        "graph2.set_ylabels('deaths_covid')\n",
        "graph2.savefig('deaths_covid.png')"
      ]
    },
    {
      "cell_type": "markdown",
      "metadata": {
        "id": "slrUMxO7eIjF"
      },
      "source": [
        "### previous_day_admission_adult_covid_confirmed"
      ]
    },
    {
      "cell_type": "code",
      "execution_count": null,
      "metadata": {
        "id": "B4OTwPwQrmDE"
      },
      "outputs": [],
      "source": [
        "graph3 = sbrn.FacetGrid(hsres, col='state', col_order=hs_col_order, height=4, sharex=True, sharey=False, col_wrap=8)\n",
        "graph3.map(plt.plot_date, 'date', 'previous_day_admission_adult_covid_confirmed', ms=1)\n",
        "graph3.map(plt.plot_date, 'date', 'previous_day_admission_adult_covid_confirmed_avg', color='k', linestyle='-.', ms=1)\n",
        "graph3.set_ylabels('previous_day_admission_adult_covid_confirmed')\n",
        "graph3.tick_params('x', rotation=90)\n",
        "graph3.savefig('previous_day_admission_adult_covid_confirmed.png')"
      ]
    },
    {
      "cell_type": "markdown",
      "metadata": {
        "id": "0V_nHR4xedoL"
      },
      "source": [
        "### percent_of_inpatients_with_covid"
      ]
    },
    {
      "cell_type": "code",
      "execution_count": null,
      "metadata": {
        "id": "t6YorIHhrmDF"
      },
      "outputs": [],
      "source": [
        "graph4 = sbrn.FacetGrid(hsres, col='state', col_order=hs_col_order, sharex=True, sharey=False, col_wrap=8)\n",
        "graph4.map(plt.plot_date, 'date', 'percent_of_inpatients_with_covid', ms=1)\n",
        "graph4.map(plt.plot_date, 'date', 'percent_of_inpatients_with_covid_avg', color='k', linestyle='-.', ms=1)\n",
        "graph4.set_ylabels('percent_of_inpatients_with_covid')\n",
        "graph4.tick_params('x', rotation=90)\n",
        "graph4.savefig('percent_of_inpatients_with_covid.png')"
      ]
    },
    {
      "cell_type": "markdown",
      "metadata": {
        "id": "XhVT12SermDF"
      },
      "source": [
        "## data summary over pandemic, by state"
      ]
    },
    {
      "cell_type": "code",
      "execution_count": null,
      "metadata": {
        "id": "UAYTdyI0rmDG"
      },
      "outputs": [],
      "source": [
        "dataD = {}\n",
        "totalD = {'state':'TOTAL/AVE'}\n",
        "for colN in colL[:-1]:\n",
        "    dataD[colN]=hsres.groupby(['state', ])[colN].sum()\n",
        "    totalD[colN] = hsres[colN].sum()\n",
        "\n",
        "dataD[colL[-1]] = hsres.groupby(['state', ])[colL[-1]].mean()\n",
        "dataD['max percentage'] = hsres.groupby(['state', ])[colL[-1]].max()\n",
        "\n",
        "totalD[colL[-1]] = hsres[colL[-1]].mean()\n",
        "totalD['max percentage'] = dataD['max percentage'].mean()\n",
        "df1=DataFrame(dataD)\n",
        "df2=DataFrame(totalD, index=['last'])\n",
        "df2=df2.set_index('state')\n",
        "df = concat([df1,df2])\n",
        "df.to_csv('state-summary.csv')\n",
        "df\n"
      ]
    },
    {
      "cell_type": "markdown",
      "source": [
        "## Pick a state to focus in on"
      ],
      "metadata": {
        "id": "RDan6KCSiZdC"
      }
    },
    {
      "cell_type": "code",
      "source": [
        "hstate = input('enter state abbreviation (e.g. \"n\" or \"NY\" for displaying hospital results: ').upper()\n",
        "hsres_hstate = hsres[hsres['state']==hstate]\n",
        "\n",
        "fig,axL = plt.subplots(4,1, sharex=True, figsize=(12,9))\n",
        "fig.suptitle(f'state={hstate}')\n",
        "ylabL = ('#', '#', '#', 'fraction')\n",
        "for stat, stat_avg, ax, ylab in zip( colL, col_avgL, axL, ylabL):\n",
        "    this_state = hsres_hstate.groupby('date')[stat].sum()\n",
        "    ax.plot_date(this_state.index,this_state,ms=1)\n",
        "    this_state = hsres_hstate.groupby('date')[stat_avg].sum()\n",
        "    ax.plot_date(this_state.index,this_state,'k-.', ms=1)\n",
        "    ax.tick_params('x', rotation=90)\n",
        "    ax.set_ylabel(ylab)\n",
        "    ax.set_title(stat)\n",
        "    format_axis(ax)\n",
        "\n",
        "fig.savefig(f'{hstate}-adult_hosp_stats.png')"
      ],
      "metadata": {
        "id": "uWiY-XIwgcU-"
      },
      "execution_count": null,
      "outputs": []
    },
    {
      "cell_type": "markdown",
      "metadata": {
        "id": "WTRk6y1yrmDH"
      },
      "source": [
        "# Wastewater code\n",
        "### need to handle visualization maps by-facility\n",
        "### need to develop code to bring up to county\n",
        "\n",
        "## https://www.nytimes.com/2024/01/10/upshot/covid-pandemic-wave.html\n",
        "\n",
        "## https://www.cdc.gov/nwss/about-data.html\n",
        "\n",
        "### initialization: needed functions and build waste treatment plant database"
      ]
    },
    {
      "cell_type": "code",
      "execution_count": null,
      "metadata": {
        "id": "72pIXYF7SqcL"
      },
      "outputs": [],
      "source": [
        "# some  functions for later use\n",
        "# x='CDC_BIOBOT_ny_505_Treatment plant_raw wastewater'\n",
        "#             wwtp_jurisdiction     wwtp_id     reporting_jurisdiction  sample_location     sample_location_specify     key_plot_id                                         county_names    county_fips     population_served\n",
        "# 252219      California            2526            California          Treatment plant     NaN                         CDC_VERILY_ca_2526_Treatment plant_post grit r...   Ventura         06111             250000\n",
        "# 252487      Texas                 2527            Texas               Treatment plant     635                         CDC_VERILY_tx_2527_Treatment plant_635_raw was...   Travis          48453             529541\n",
        "# 252884      California            834             California          Treatment plant     633                         CDC_VERILY_ca_834_Treatment plant_633_post gri...   Riverside       06065              91980\n",
        "regex = re.compile('_[a-z][a-z]_(\\d+)_')\n",
        "\n",
        "def get_id(row):\n",
        "    x = row.key_plot_id\n",
        "    y = regex.search(x)\n",
        "    if y:\n",
        "        shortened = x[0:y.end()-1]\n",
        "    else:\n",
        "        print(row)\n",
        "        shortened = x.split(' ')[0]\n",
        "        print('id w/o #: ', shortened)\n",
        "    # NWSS_az_1212 1212\n",
        "    if not isna(row.sample_location_specify):\n",
        "        shortened = shortened + f'_{row.sample_location_specify}'\n",
        "    elif x.find('post grit')>-1:\n",
        "        shortened=shortened+'_post'\n",
        "    return shortened\n",
        "\n",
        "def get_col_order(df, key_column):\n",
        "    col_order = df[key_column].unique().tolist()\n",
        "    col_order.sort()\n",
        "    return col_order\n",
        "\n",
        "def update_wwtp_id(df):\n",
        "    df['wwtp_id'] = df.apply(get_id, axis=1)\n",
        "    return df"
      ]
    },
    {
      "cell_type": "code",
      "execution_count": null,
      "metadata": {
        "id": "z_MjrktiR2en"
      },
      "outputs": [],
      "source": [
        "fieldStr = 'wwtp_jurisdiction,wwtp_id,reporting_jurisdiction,sample_location,sample_location_specify,key_plot_id,county_names,county_fips,population_served'\n",
        "query = f\"\"\"\n",
        "SELECT\n",
        "{fieldStr}\n",
        "WHERE\n",
        "date_end>'2023-07-01T00:00:00.000'\n",
        "LIMIT\n",
        "400000\n",
        "\"\"\"\n",
        "\n",
        "\n",
        "results = wclient.get(\"2ew6-ywp6\", query=query)\n",
        "res0=DataFrame.from_records(results)\n",
        "\n",
        "print(res0['key_plot_id'].count())\n",
        "\n",
        "grp=res0.groupby('key_plot_id').nth(0).reset_index()\n",
        "grp = grp.astype({'population_served': int, 'sample_location_specify': 'Int64' })\n",
        "grp = update_wwtp_id(grp)\n",
        "grp.to_csv('wwtp_db.csv')\n",
        "mults = grp.groupby('wwtp_id',group_keys=False).apply(lambda x: x if x.key_plot_id.count()>1 else None)\n",
        "print(mults)\n",
        "mults.to_csv('multiples.csv')\n",
        "grp"
      ]
    },
    {
      "cell_type": "markdown",
      "metadata": {
        "id": "aENOwOX2R2eo"
      },
      "source": [
        "## by facility. can get all facilities in a state by inputting two letter state abbrev or particular facility by state+wwtp_id+sample_location_specify if existing\n",
        "### enter state abbreviation at prompt"
      ]
    },
    {
      "cell_type": "code",
      "execution_count": null,
      "metadata": {
        "id": "e8KxNeKYrmDI"
      },
      "outputs": [],
      "source": [
        "wstate = input('enter state abbreviation for displaying wastewater results: ').lower()"
      ]
    },
    {
      "cell_type": "markdown",
      "metadata": {
        "id": "QzdeQX9RrmDI"
      },
      "source": [
        "## By concentration\n",
        "## https://data.cdc.gov/Public-Health-Surveillance/NWSS-Public-SARS-CoV-2-Concentration-in-Wastewater/g653-rqe2/about_data\n",
        "## pcr_conc_smoothed"
      ]
    },
    {
      "cell_type": "code",
      "execution_count": null,
      "metadata": {
        "id": "arMhUFohrmDJ"
      },
      "outputs": [],
      "source": [
        "RSRC ='g653-rqe2'\n",
        "\n",
        "query = f\"\"\"\n",
        "SELECT\n",
        "*\n",
        "WHERE\n",
        "date>='2020-01-03T00:00:00.000' AND key_plot_id LIKE '%\\\\_{wstate}\\\\_%'\n",
        "ORDER BY\n",
        "date ASC\n",
        "LIMIT\n",
        "90000\n",
        "\"\"\"\n",
        "\n",
        "print(query)\n",
        "results = wclient.get(RSRC, query=query)\n",
        "res1=DataFrame.from_records(results)\n",
        "res1['pcr_conc_smoothed'] =  res1['pcr_conc_smoothed'].astype(float)\n",
        "res1['date'] = to_datetime(res1['date'])\n",
        "res1 = res1.join(grp.set_index('key_plot_id'), on='key_plot_id')\n",
        "w1_col_order=get_col_order(res1, 'wwtp_id')\n",
        "# need to groupby:\n",
        "res1['percentile_from_conc'] = res1.groupby('key_plot_id', group_keys=False).apply(lambda x: 100*x.pcr_conc_smoothed/ x.pcr_conc_smoothed.max())\n",
        "res1.to_csv(f'{wstate}_wastewater.csv')\n",
        "res1\n",
        "\n",
        "# why negative numbers for pcr_conc_smoothed???\n",
        "#     key_plot_id   date      pcr_conc_smoothed    normalization       wwtp_id\n",
        "# 57          527 2021-10-15      -2.875224e+06  flow-population   NWSS_ny_527\n",
        "# 58           52 2021-10-15       2.960513e+07  flow-population    NWSS_ny_52\n",
        "# 59         2182 2021-10-15       5.964828e+05  flow-population  NWSS_ny_2182\n",
        "# 60          426 2021-10-15       1.424451e+07  flow-population   NWSS_ny_426\n",
        "# 61          515 2021-10-15      -1.071621e+07  flow-population   NWSS_ny_515\n",
        "# 62          522 2021-10-15      -4.880599e+06  flow-population   NWSS_ny_522\n",
        "# 63          524 2021-10-15      -6.443013e+06  flow-population   NWSS_ny_524\n",
        "# 64          529 2021-10-15      -1.401466e+07  flow-population   NWSS_ny_529"
      ]
    },
    {
      "cell_type": "code",
      "execution_count": null,
      "metadata": {
        "id": "VLuh_iHFSqcN"
      },
      "outputs": [],
      "source": [
        "plt.figure(figsize=(14,8))\n",
        "res1.groupby('key_plot_id').apply(lambda x: plt.plot_date(x.date, x.pcr_conc_smoothed, '-.', ms=1, linewidth=1,  label=x.wwtp_id.iloc[0]))\n",
        "plt.ylabel('pcr_conc_smoothed')\n",
        "# plt.legend(ncols=3)\n",
        "\n",
        "plt.figure(figsize=(14,8))\n",
        "res1.groupby('key_plot_id').apply(lambda x: plt.plot_date(x.date, x.pcr_conc_smoothed/x.pcr_conc_smoothed.max(), '-', ms=0.5, linewidth=0.5,  label=x.wwtp_id.iloc[0]))\n",
        "plt.ylim(0.,1)\n",
        "plt.ylabel('pcr_conc_smoothed, normalized')\n",
        "plt.legend(ncols=3)\n",
        "\n"
      ]
    },
    {
      "cell_type": "code",
      "execution_count": null,
      "metadata": {
        "id": "uVVhM-8_rmDK"
      },
      "outputs": [],
      "source": [
        "graph1 = sbrn.FacetGrid(res1, col='wwtp_id', col_order=w1_col_order, sharex=True, sharey=False, col_wrap=7)\n",
        "graph1.map(plt.plot_date, 'date', 'pcr_conc_smoothed', ms=1)\n",
        "graph1.tick_params('x', rotation=90)\n",
        "graph1.savefig(f'{wstate}-wastewater-1.png')\n",
        "\n",
        "graph4 = sbrn.FacetGrid(res1, col='wwtp_id', col_order=w1_col_order, sharex=True, sharey=False, col_wrap=7)\n",
        "graph4.map(plt.plot_date, 'date', 'percentile_from_conc', ms=1)\n",
        "graph4.tick_params('x', rotation=90)\n",
        "graph4.savefig(f'{wstate}-wastewater-2a.png')"
      ]
    },
    {
      "cell_type": "markdown",
      "metadata": {
        "id": "aw6gZDuYrmDK"
      },
      "source": [
        "## Metric data\n",
        "### https://data.cdc.gov/Public-Health-Surveillance/NWSS-Public-SARS-CoV-2-Wastewater-Metric-Data/2ew6-ywp6/about_data\n",
        "\n"
      ]
    },
    {
      "cell_type": "code",
      "execution_count": null,
      "metadata": {
        "id": "b_wlxb4yrmDL"
      },
      "outputs": [],
      "source": [
        "fieldStr = 'key_plot_id,date_start,date_end,percentile,ptc_15d'\n",
        "query = f\"\"\"\n",
        "SELECT\n",
        "{fieldStr}\n",
        "WHERE\n",
        "date_end>'2020-01-01T00:00:00.000' AND key_plot_id LIKE '%\\\\_{wstate}\\\\_%'\n",
        "LIMIT\n",
        "100000\n",
        "\"\"\"\n",
        "results = wclient.get(\"2ew6-ywp6\", query=query)\n",
        "res2=DataFrame.from_records(results)\n",
        "res2 = res2.join(grp.set_index('key_plot_id'), on='key_plot_id')\n",
        "res2['percentile'] =  res2['percentile'].astype(float)\n",
        "res2 = res2.astype({'population_served': int, 'sample_location_specify': 'Int64' })\n",
        "res2['date_end'] = to_datetime(res2['date_end'])\n",
        "w2_col_order=get_col_order(res2, 'wwtp_id')\n",
        "res2.to_csv(f'{wstate}_metric_data_wastewater.csv')\n",
        "res2"
      ]
    },
    {
      "cell_type": "markdown",
      "metadata": {
        "id": "9kal-T-RSqcP"
      },
      "source": [
        "## Percentile\n",
        "### needs comparison with the pcr_conc_smoothed\n",
        "\n",
        "### every graph should have at least one 100%. but not.\n",
        "#### This metric shows whether SARS-CoV-2 virus levels at a site are currently higher or lower than past historical levels at the same site.\n",
        "#### 0% means levels are the lowest they have been at the site; 100% means levels are the highest they have been at the site.\n",
        "#### Public health officials watch for increasing levels of the virus in wastewater over time and use this data to help make public health decisions.\n",
        "\n",
        "### but maybe some help here: Calculating the Wastewater Viral Activity Level:\n",
        "\n",
        "    Data Normalization:\n",
        "        The type of data normalization used is based on the data that is submitted by the site.\n",
        "            If both flow-population and microbial normalization values are available, flow-population normalization is used.\n",
        "        After normalization, all concentration data is log transformed.\n",
        "    Baseline Calculation:\n",
        "        For each combination of site, data submitter, PCR target, lab methods, and normalization method, a baseline is established. The “baseline” is the 10th percentile of the log-transformed and normalized concentration data within a specific time frame.\n",
        "            For site and method combinations (as listed above) with over six months of data, baselines are re-calculated every six calendar months (January 1st and July 1st) using the past 12 months of data.\n",
        "            For sites and method combinations with less than six months of data, baselines are computed weekly until reaching six months, after which they remain unchanged until the next January 1st or July 1st, at which time baselines are re-calculated.\n",
        "        The standard deviation for each site and method combination is calculated using the same time frame as the baseline.\n",
        "    Wastewater Viral Activity Level Calculation:\n",
        "        The number of standard deviations that each log-transformed concentration value deviates from the baseline (positive if above, negative if below) is calculated.\n",
        "        This value is then converted back to a linear scale to form the Wastewater Viral Activity Level for the site and method combination.\n",
        "        The Wastewater Viral Activity Levels from a site are averaged by week for all figures.\n",
        "    Aggregation for National, Regional, and State Levels:\n",
        "        We calculate the median Wastewater Viral Activity Levels among sites at national, regional, and state levels, excluding data from site/method combinations with less than 6 weeks of data."
      ]
    },
    {
      "cell_type": "code",
      "execution_count": null,
      "metadata": {
        "id": "h31pcFoarmDL"
      },
      "outputs": [],
      "source": [
        "graph2 = sbrn.FacetGrid(res2, col='wwtp_id', col_order=w2_col_order, sharex=True, sharey=False, col_wrap=7)\n",
        "graph2.map(plt.plot_date, 'date_end', 'percentile', ms=1)\n",
        "graph2.tick_params('x', rotation=90)\n",
        "graph2.savefig(f'{wstate}-wastewater-2b.png')"
      ]
    },
    {
      "cell_type": "markdown",
      "metadata": {
        "id": "Gl-h_thgeqnt"
      },
      "source": [
        "### PTC_15D whatever that is, it doesn't LOOK like much. maybe i goofed here???\n",
        "\n",
        "### quoteth the Law(d):\n",
        "\n",
        "#### The percent change in SARS-CoV-2 RNA levels over the 15-day interval defined by 'date_start' and 'date_end'.\n",
        "#### Percent change is calculated as the modeled change over the interval, based on linear regression of log-transformed SARS-CoV-2 levels.\n",
        "#### SARS-CoV-2 RNA levels are wastewater concentrations that have been normalized for wastewater composition."
      ]
    },
    {
      "cell_type": "code",
      "execution_count": null,
      "metadata": {
        "id": "H9YvVe5tDJrh"
      },
      "outputs": [],
      "source": [
        "cutoff = float(input('enter upper end cutoff:  '))\n",
        "res2['ptc_15d'] =  res2['ptc_15d'].astype(float)\n",
        "ptc_cropped = res2[res2['ptc_15d']<cutoff]\n",
        "\n",
        "graph3 = sbrn.FacetGrid(ptc_cropped, col='wwtp_id', col_order=w2_col_order, sharex=True, sharey=False, col_wrap=7)\n",
        "graph3.map(plt.plot_date, 'date_end', 'ptc_15d', ms=1)\n",
        "graph3.tick_params('x', rotation=90)\n",
        "graph3.savefig(f'{wstate}-wastewater-3b.png')\n",
        "\n",
        "plt.figure()\n",
        "ptc_cropped['ptc_15d'].plot(kind='hist', bins=400, logx=False, logy=True)\n",
        "plt.xlabel('% change 15 days')\n",
        "plt.title(f'Histogram of weird ptc_15d wastewater metric (>{cutoff} excluded)')"
      ]
    },
    {
      "cell_type": "markdown",
      "metadata": {
        "id": "EA10IyeBSqcQ"
      },
      "source": [
        "### Let's now look at state and national, and eventually, county"
      ]
    },
    {
      "cell_type": "code",
      "execution_count": null,
      "metadata": {
        "id": "9SPA24GDylk7"
      },
      "outputs": [],
      "source": [
        "RSRC ='g653-rqe2'\n",
        "\n",
        "# date>='2020-01-03T00:00:00.000' AND key_plot_id LIKE '%_{wstate}_%'\n",
        "# date='2023-12-22T00:00:00.000'\n",
        "query = f\"\"\"\n",
        "SELECT\n",
        "key_plot_id,\n",
        "date,\n",
        "pcr_conc_smoothed\n",
        "WHERE\n",
        "date>='2020-01-01T00:00:00.000'\n",
        "LIMIT\n",
        "800000\n",
        "\"\"\"\n",
        "\n",
        "results = wclient.get(RSRC, query=query)\n",
        "res3=DataFrame.from_records(results)\n",
        "res3['pcr_conc_smoothed'] =  res3['pcr_conc_smoothed'].astype(float)\n",
        "res3['date'] = to_datetime(res3['date'])\n",
        "res3=res3[res3['pcr_conc_smoothed'].notna()]\n",
        "res3.sort_values('date', inplace=True)\n",
        "res3"
      ]
    },
    {
      "cell_type": "code",
      "execution_count": null,
      "metadata": {
        "id": "q4zaQ9tIzqqY"
      },
      "outputs": [],
      "source": [
        "\n",
        "x=res3.groupby('date')['pcr_conc_smoothed'].count()\n",
        "fig, ax = plt.subplots(1,1, figsize=(10,8))\n",
        "ax.plot_date(x.index, x, ms=1)\n",
        "ax.set_ylabel('# stations reporting')\n",
        "format_axis(ax)\n",
        "ax.tick_params('x', rotation=90)\n",
        "fig.suptitle('Number wastewater stations reporting pcr_conc_smoothed')\n",
        "plt.savefig('num_waste_stations_pcr_conc.png')"
      ]
    },
    {
      "cell_type": "markdown",
      "metadata": {
        "id": "fcxzQEXkJn4q"
      },
      "source": [
        "### join dataset to the facility database"
      ]
    },
    {
      "cell_type": "code",
      "execution_count": null,
      "metadata": {
        "id": "-9yp7u5jcVrV"
      },
      "outputs": [],
      "source": [
        "full = res3.join(grp.set_index('key_plot_id'), on='key_plot_id')\n",
        "full.sort_values('date', inplace=True)\n",
        "full"
      ]
    },
    {
      "cell_type": "code",
      "execution_count": null,
      "metadata": {
        "id": "QzXQEXCgkPJl"
      },
      "outputs": [],
      "source": [
        "full.dtypes\n",
        "def national_pop_averaged_conc(x):\n",
        "    y = x['pcr_conc_smoothed'] * x['population_served']/tot_pop\n",
        "    return y.sum()"
      ]
    },
    {
      "cell_type": "code",
      "execution_count": null,
      "metadata": {
        "id": "eq2mFvmLZBKb"
      },
      "outputs": [],
      "source": [
        "tot_pop=grp['population_served'].sum()\n",
        "tot_pop"
      ]
    },
    {
      "cell_type": "code",
      "source": [
        "new=res3[res3['date']>='2023-12-01']\n",
        "new.groupby('date').count()"
      ],
      "metadata": {
        "id": "FZKQ6FqBcIxK"
      },
      "execution_count": null,
      "outputs": []
    },
    {
      "cell_type": "code",
      "execution_count": null,
      "metadata": {
        "id": "_9n3r0ydlUPz"
      },
      "outputs": [],
      "source": [
        "ngrp = full.groupby(['date']).apply(lambda x: x['pcr_conc_smoothed'].mean())\n",
        "fig,ax = plt.subplots(1,1, figsize=(10,8))\n",
        "ax.plot_date(ngrp.index, ngrp, ms=1)\n",
        "ax.set_ylabel('concentration average')\n",
        "ax.tick_params('x', rotation=90)\n",
        "plt.savefig('wastewater_by_nation.png')"
      ]
    },
    {
      "cell_type": "code",
      "source": [
        "from IPython.display import Image, display\n",
        "display(Image(\"Screenshot from 2024-01-11 15-50-10.png\", width=1400, height=800))"
      ],
      "metadata": {
        "id": "KAqcqXHCvgMI"
      },
      "execution_count": null,
      "outputs": []
    },
    {
      "cell_type": "code",
      "execution_count": null,
      "metadata": {
        "id": "U5PLoly9SqcU"
      },
      "outputs": [],
      "source": [
        "sgrp = full.groupby(['date', 'wwtp_jurisdiction']).apply(lambda x: x['pcr_conc_smoothed'].mean()).reset_index(name='concentration average')\n",
        "graph_conc_state = sbrn.FacetGrid(sgrp, col='wwtp_jurisdiction', col_order=get_col_order(sgrp, 'wwtp_jurisdiction'), sharex=True, sharey=False, col_wrap=8)\n",
        "graph_conc_state.map(plt.plot_date, 'date', 'concentration average', ms=1)\n",
        "graph_conc_state.tick_params('x', rotation=90)\n",
        "graph_conc_state.savefig('wastewater_by_state.png')"
      ]
    },
    {
      "cell_type": "markdown",
      "source": [
        "## some of the pcr_conc_smooth data goes NEGATIVE!!!! what wid dat???"
      ],
      "metadata": {
        "id": "4ZGBQeRFnkCm"
      }
    },
    {
      "cell_type": "code",
      "execution_count": null,
      "metadata": {
        "id": "ii1Ii5LTSqcU"
      },
      "outputs": [],
      "source": [
        "res3[res3['pcr_conc_smoothed']<0].groupby('key_plot_id').apply(lambda x: x.pcr_conc_smoothed.count()).to_csv('below-zero.csv')"
      ]
    },
    {
      "cell_type": "markdown",
      "source": [
        "## some funkiness with W Va data, so looking especially at it here. seems like the problem is resolved, no longer are there MANY wastewater stations without a unique wwtp_id."
      ],
      "metadata": {
        "id": "uK7ntfrcnGHZ"
      }
    },
    {
      "cell_type": "code",
      "execution_count": null,
      "metadata": {
        "id": "9tE7bKcQSqcU"
      },
      "outputs": [],
      "source": [
        "fieldStr = 'wwtp_jurisdiction,wwtp_id,reporting_jurisdiction,sample_location,sample_location_specify,key_plot_id,county_names,county_fips,population_served,date_end'\n",
        "query = f\"\"\"\n",
        "SELECT\n",
        "{fieldStr}\n",
        "WHERE\n",
        "date_end>'2020-01-01T00:00:00.000' AND reporting_jurisdiction='West Virginia'\n",
        "LIMIT\n",
        "300000\n",
        "\"\"\"\n",
        "\n",
        "\n",
        "results = wclient.get(\"2ew6-ywp6\", query=query)\n",
        "res0=DataFrame.from_records(results)\n",
        "print(res0.groupby('wwtp_id').nth(0))\n",
        "print(res0[res0['wwtp_id'].isna()])\n",
        "res0.to_csv('wv.csv')\n",
        "res0"
      ]
    },
    {
      "cell_type": "code",
      "execution_count": null,
      "metadata": {
        "id": "D8q_Hk3ySqcV"
      },
      "outputs": [],
      "source": [
        "RSRC ='2ew6-ywp6'\n",
        "\n",
        "# date>='2020-01-03T00:00:00.000' AND key_plot_id LIKE '%_{wstate}_%'\n",
        "# date='2023-12-22T00:00:00.000'\n",
        "query = f\"\"\"\n",
        "SELECT\n",
        "key_plot_id,\n",
        "date_end,\n",
        "percentile\n",
        "WHERE\n",
        "date_end>='2020-01-01T00:00:00.000'\n",
        "LIMIT\n",
        "800000\n",
        "\"\"\"\n",
        "\n",
        "results = wclient.get(RSRC, query=query)\n",
        "res4=DataFrame.from_records(results)\n",
        "res4['percentile'] =  res4['percentile'].astype(float)\n",
        "res4['date_end'] = to_datetime(res4['date_end'])\n",
        "res4=res4[res4['percentile'].notna()]\n",
        "\n",
        "x=res4.groupby('date_end')['percentile'].count()\n",
        "\n",
        "fig,ax = plt.subplots(1,1, figsize=(10,8))\n",
        "ax.plot_date(x.index, x, ms=1)\n",
        "ax.set_ylabel('# stations reporting')\n",
        "format_axis(ax)\n",
        "ax.tick_params('x', rotation=90)\n",
        "fig.suptitle('Number wastewater stations reporting')\n",
        "plt.savefig('num_waste_stations_per.png')\n",
        "\n",
        "full_per = res4.join(grp.set_index('key_plot_id'), on='key_plot_id')\n",
        "full_per.sort_values('date_end')\n",
        "full_per=full_per.replace(999., 0.)\n",
        "\n",
        "ngrp_per = full_per.groupby(['date_end']).apply(lambda x: x['percentile'].mean())\n",
        "fig,ax = plt.subplots(1,1, figsize=(10,8))\n",
        "plt.plot_date(ngrp_per.index, ngrp_per, ms=1)\n",
        "plt.ylabel('percentile average')\n",
        "format_axis(ax)\n",
        "ax.tick_params('x', rotation=90)\n",
        "plt.savefig('wastewater_by_nation_per.png')\n",
        "\n",
        "sgrp_per = full_per.groupby(['date_end', 'wwtp_jurisdiction']).apply(lambda x: x['percentile'].mean()).reset_index(name='percentile average')\n",
        "graph_perc_state = sbrn.FacetGrid(sgrp_per, col='wwtp_jurisdiction', col_order=get_col_order(sgrp, 'wwtp_jurisdiction'), sharex=True, sharey=False, col_wrap=8)\n",
        "graph_perc_state.map(plt.plot_date, 'date_end', 'percentile average', ms=1)\n",
        "graph_perc_state.tick_params('x', rotation=90)\n",
        "graph_perc_state.savefig('wastewater_by_state_per.png')"
      ]
    },
    {
      "cell_type": "markdown",
      "metadata": {
        "id": "9Co2P3PzSqcV"
      },
      "source": [
        "## Ok, who's the wiseguy who is entering 999.0 for percentile and when were they doing it???"
      ]
    },
    {
      "cell_type": "code",
      "execution_count": null,
      "metadata": {
        "id": "CrZUEX1WSqcV"
      },
      "outputs": [],
      "source": [
        "def _add_one(limit):\n",
        "    num=0\n",
        "    while num<limit:\n",
        "        yield num\n",
        "        num = num+1\n",
        "\n",
        "df = res4[res4['percentile']==999.].set_index('key_plot_id', drop=True)\n",
        "s = df['percentile'].groupby('key_plot_id').apply(lambda x: x.count())\n",
        "s.rename('count', inplace=True)\n",
        "df=df.join(s, how='outer')\n",
        "df.sort_values('count', ascending=False, inplace=True)\n",
        "add_one = _add_one(s.size)\n",
        "fig,ax=plt.subplots(1,1, figsize=(8,8))\n",
        "df.groupby('key_plot_id', sort=False).apply(lambda x: plt.plot_date(x['date_end'], 0.*x['percentile']+next(add_one), ms=1))\n",
        "ax.tick_params('x', rotation=90)\n",
        "ax.set_ylabel('station N')\n",
        "ax.set_title('when station N reported 999.0 for percentile')\n",
        "format_axis(ax)\n",
        "df"
      ]
    },
    {
      "cell_type": "code",
      "execution_count": null,
      "metadata": {
        "id": "ok0eyI3MSqcW"
      },
      "outputs": [],
      "source": [
        "import plotly.express as px\n",
        "fig = px.bar(x=[\"a\", \"b\", \"c\"], y=[1, 3, 2])\n",
        "\n",
        "import plotly.graph_objects as go\n",
        "fig_widget = go.FigureWidget(fig)\n",
        "fig_widget"
      ]
    },
    {
      "cell_type": "code",
      "execution_count": null,
      "metadata": {
        "id": "ld_D16YBSqcW"
      },
      "outputs": [],
      "source": []
    }
  ],
  "metadata": {
    "colab": {
      "provenance": []
    },
    "kernelspec": {
      "display_name": "Python 3 (ipykernel)",
      "language": "python",
      "name": "python3"
    },
    "language_info": {
      "codemirror_mode": {
        "name": "ipython",
        "version": 3
      },
      "file_extension": ".py",
      "mimetype": "text/x-python",
      "name": "python",
      "nbconvert_exporter": "python",
      "pygments_lexer": "ipython3",
      "version": "3.11.6"
    }
  },
  "nbformat": 4,
  "nbformat_minor": 0
}