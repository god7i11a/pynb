{
 "cells": [
  {
   "cell_type": "markdown",
   "metadata": {
    "colab_type": "text",
    "id": "view-in-github"
   },
   "source": [
    "<a href=\"https://colab.research.google.com/github/god7i11a/pynb/blob/main/SST_anomaly.ipynb\" target=\"_parent\"><img src=\"https://colab.research.google.com/assets/colab-badge.svg\" alt=\"Open In Colab\"/></a>"
   ]
  },
  {
   "cell_type": "markdown",
   "metadata": {
    "id": "DCWduFTENTFE"
   },
   "source": [
    "# Resources\n",
    "# https://climatereanalyzer.org/clim/sst_daily/\n",
    "# https://www.pyngl.ucar.edu/\n",
    "# https://www.ncl.ucar.edu/External/\n",
    "# https://climatedataguide.ucar.edu/\n",
    "\n",
    "# why $5\\sigma$ ???:    # https://home.cern/resources/faqs/five-sigma\n",
    "\n",
    "# TODOs:\n",
    "## explore other ways of quantifying variations besides daily distribution around the 20 year mean."
   ]
  },
  {
   "cell_type": "code",
   "execution_count": null,
   "metadata": {
    "id": "xohkny-IBGCg"
   },
   "outputs": [],
   "source": [
    "%matplotlib inline\n",
    "%matplotlib ipympl\n",
    "\n",
    "\n",
    "try:\n",
    "    from google.colab import userdata, output\n",
    "    output.enable_custom_widget_manager()\n",
    "    ! pip install ipympl\n",
    "    ! sudo apt-get install cm-super dvipng texlive-latex-extra texlive-latex-recommended\n",
    "    COLAB = True\n",
    "except ModuleNotFoundError:\n",
    "    COLAB=False\n",
    "\n",
    "from climate_reanalysis import SST, T2, get_data, construct_colormap, display_main_plot, display_jumps, display_shifting_averages, display_as_one_curve, display_latest_year_data"
   ]
  },
  {
   "cell_type": "markdown",
   "metadata": {
    "id": "i16ppWnsN-8z"
   },
   "source": [
    "# get the latest data\n",
    "\n",
    "# global average   https://climatereanalyzer.org/clim/t2_daily/json/era5_world_t2_day.json\n",
    "# gridded data https://www.ncei.noaa.gov/data/sea-surface-temperature-optimum-interpolation/v2.1/access/avhrr/"
   ]
  },
  {
   "cell_type": "markdown",
   "metadata": {
    "id": "0wR6u1G_N2Qw"
   },
   "source": [
    "# compute mean and standard deviations and display raw data"
   ]
  },
  {
   "cell_type": "code",
   "execution_count": null,
   "metadata": {},
   "outputs": [],
   "source": [
    "get_data(SST)\n",
    "display_latest_year_data(SST)"
   ]
  },
  {
   "cell_type": "markdown",
   "metadata": {
    "id": "0z_xjC_PSIzj"
   },
   "source": [
    "# Colormaps\n",
    "# https://colorcet.holoviz.org/\n",
    "# https://cmasher.readthedocs.io/user/usage.html#accessing-colormaps"
   ]
  },
  {
   "cell_type": "code",
   "execution_count": null,
   "metadata": {
    "id": "5JAEmAM6lyD5"
   },
   "outputs": [],
   "source": [
    "w = construct_colormap(show_chart=True)\n",
    "display(w)"
   ]
  },
  {
   "cell_type": "markdown",
   "metadata": {
    "id": "IE5vBRyNhqw4",
    "scrolled": true
   },
   "source": [
    "## graph"
   ]
  },
  {
   "cell_type": "code",
   "execution_count": null,
   "metadata": {
    "id": "CzcT39fOwMnN"
   },
   "outputs": [],
   "source": [
    "display_main_plot(SST, w)"
   ]
  },
  {
   "cell_type": "markdown",
   "metadata": {},
   "source": [
    "# SST jumps"
   ]
  },
  {
   "cell_type": "code",
   "execution_count": null,
   "metadata": {
    "scrolled": true
   },
   "outputs": [],
   "source": [
    "display_jumps(SST, w)"
   ]
  },
  {
   "cell_type": "markdown",
   "metadata": {},
   "source": [
    "# ONE CURVE"
   ]
  },
  {
   "cell_type": "code",
   "execution_count": null,
   "metadata": {
    "id": "df7Tuknu8U6n"
   },
   "outputs": [],
   "source": [
    "display_as_one_curve(SST, w)"
   ]
  },
  {
   "cell_type": "markdown",
   "metadata": {
    "id": "oHlWn0iAtkBR"
   },
   "source": [
    "# Just checking my stuff against Climate Reanalyzer graph"
   ]
  },
  {
   "cell_type": "code",
   "execution_count": null,
   "metadata": {
    "id": "ZTnEcF9RsTSY"
   },
   "outputs": [],
   "source": [
    "display_shifting_averages(SST)"
   ]
  },
  {
   "cell_type": "code",
   "execution_count": null,
   "metadata": {},
   "outputs": [],
   "source": []
  }
 ],
 "metadata": {
  "colab": {
   "authorship_tag": "ABX9TyOR7/Brfq5D1sdelJ/GR2/6",
   "include_colab_link": true,
   "provenance": []
  },
  "kernelspec": {
   "display_name": "Python 3 (ipykernel)",
   "language": "python",
   "name": "python3"
  },
  "language_info": {
   "codemirror_mode": {
    "name": "ipython",
    "version": 3
   },
   "file_extension": ".py",
   "mimetype": "text/x-python",
   "name": "python",
   "nbconvert_exporter": "python",
   "pygments_lexer": "ipython3",
   "version": "3.12.7"
  }
 },
 "nbformat": 4,
 "nbformat_minor": 4
}
