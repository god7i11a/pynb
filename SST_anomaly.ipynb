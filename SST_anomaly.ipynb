{
 "cells": [
  {
   "cell_type": "markdown",
   "metadata": {
    "colab_type": "text",
    "id": "view-in-github"
   },
   "source": [
    "<a href=\"https://colab.research.google.com/github/god7i11a/pynb/blob/main/SST_anomaly.ipynb\" target=\"_parent\"><img src=\"https://colab.research.google.com/assets/colab-badge.svg\" alt=\"Open In Colab\"/></a>"
   ]
  },
  {
   "cell_type": "markdown",
   "metadata": {
    "id": "DCWduFTENTFE"
   },
   "source": [
    "# Resources\n",
    "# https://climatereanalyzer.org/clim/sst_daily/\n",
    "# https://www.pyngl.ucar.edu/\n",
    "# https://www.ncl.ucar.edu/External/\n",
    "\n",
    "# why $5\\sigma$ ???:    # https://home.cern/resources/faqs/five-sigma\n",
    "\n",
    "# TODOs:\n",
    "## explore other ways of quantifying variations besides daily distribution around the 20 year mean."
   ]
  },
  {
   "cell_type": "code",
   "execution_count": null,
   "metadata": {
    "id": "xohkny-IBGCg"
   },
   "outputs": [],
   "source": [
    "import os\n",
    "import re\n",
    "import sys\n",
    "\n",
    "try:\n",
    "    from google.colab import userdata, output\n",
    "    output.enable_custom_widget_manager()\n",
    "    ! pip install ipympl\n",
    "    ! sudo apt-get install cm-super dvipng texlive-latex-extra texlive-latex-recommended\n",
    "    COLAB = True\n",
    "except ModuleNotFoundError:\n",
    "    COLAB=False\n",
    "\n",
    "get_ipython().run_line_magic('matplotlib', 'ipympl')\n",
    "\n",
    "from locale import atof\n",
    "import math\n",
    "import datetime\n",
    "import ipywidgets as widgets\n",
    "from numpy import datetime_as_string, inf, array, linspace, sin, vstack, arange\n",
    "import branca.colormap as cm\n",
    "from pandas import DataFrame, to_datetime, Series, concat, isna, read_json, timedelta_range\n",
    "from matplotlib import pyplot as plt, colors\n",
    "\n",
    "\n",
    "plt.rcParams['text.usetex'] = True"
   ]
  },
  {
   "cell_type": "markdown",
   "metadata": {
    "id": "i16ppWnsN-8z"
   },
   "source": [
    "# get the latest data\n",
    "\n",
    "# global average   https://climatereanalyzer.org/clim/t2_daily/json/era5_world_t2_day.json\n",
    "# gridded data https://www.ncei.noaa.gov/data/sea-surface-temperature-optimum-interpolation/v2.1/access/avhrr/"
   ]
  },
  {
   "cell_type": "code",
   "execution_count": null,
   "metadata": {
    "id": "BSg8Pu5zBPRT"
   },
   "outputs": [],
   "source": [
    "fileN = 'oisst2.1_world2_sst_day.json'\n",
    "URL0 = 'https://climatereanalyzer.org/clim/sst_daily/json/'\n",
    "end_offset=-4\n",
    "URL1 = 'https://climatereanalyzer.org/clim/sst_daily/json_2clim/'\n",
    "end_offset=-3\n",
    "df = read_json(path_or_buf=f\"{URL1}/{fileN}\")\n",
    "df.set_index(\"name\", inplace=True)\n",
    "df = DataFrame(df[\"data\"].to_list(), columns=list(range(1, 367)), index=df.index)\n",
    "last_year = df.index.to_list()[end_offset]\n",
    "day_of_year = df.loc[last_year, :].dropna().index.to_list()[-1]\n",
    "last_date=(datetime.datetime(int(last_year), 1, 1) + datetime.timedelta(day_of_year - 1)).strftime('%m/%d/%Y')\n",
    "print(f'latest data point is {last_date}')"
   ]
  },
  {
   "cell_type": "markdown",
   "metadata": {
    "id": "0wR6u1G_N2Qw"
   },
   "source": [
    "# compute mean and standard deviations and display raw data"
   ]
  },
  {
   "cell_type": "code",
   "execution_count": null,
   "metadata": {
    "id": "KQObZA52BWEk"
   },
   "outputs": [],
   "source": [
    "cdf=df.T.loc[:, '1981':'2024']\n",
    "cdf['mean'] = cdf.loc[:,'1982':'2011'].mean(axis=1, skipna=True)\n",
    "cdf['std'] = cdf.loc[:,'1982':'2011'].std(axis=1, skipna=True)\n",
    "cdf['finalmean'] = cdf.loc[:,'2012':'2024'].mean(axis=1, skipna=True)\n",
    "cdf['finalstd'] = cdf.loc[:,'2012':'2024'].std(axis=1, skipna=True)\n",
    "cdf['mean+5std'] = cdf['mean']+5*cdf['std']\n",
    "cdf['mean+5finalstd'] = cdf['mean']+5*cdf['finalstd']\n",
    "cdf['mean+2std'] = cdf['mean']+2*cdf['std']\n",
    "cdf['mean-2std'] = cdf['mean']-2*cdf['std']\n",
    "cdf"
   ]
  },
  {
   "cell_type": "markdown",
   "metadata": {
    "id": "0z_xjC_PSIzj"
   },
   "source": [
    "# Colormaps\n",
    "# https://colorcet.holoviz.org/\n",
    "# https://cmasher.readthedocs.io/user/usage.html#accessing-colormaps"
   ]
  },
  {
   "cell_type": "code",
   "execution_count": null,
   "metadata": {
    "id": "5JAEmAM6lyD5"
   },
   "outputs": [],
   "source": [
    "gradient = linspace(0, 1, 256)\n",
    "gradient = vstack((gradient, gradient))\n",
    "cmaps = {'Cyclic': ['twilight', 'twilight_shifted', 'hsv'],\n",
    "         'Perceptually Uniform Seq': ['viridis', 'plasma', 'inferno', 'magma', 'cividis'],\n",
    "         'Seq': ['Greys', 'Purples', 'Blues', 'Greens', 'Oranges', 'Reds',\n",
    "                        'YlOrBr', 'YlOrRd', 'OrRd', 'PuRd', 'RdPu', 'BuPu',\n",
    "                        'GnBu', 'PuBu', 'YlGnBu', 'PuBuGn', 'BuGn', 'YlGn'],\n",
    "         'Seq2': ['binary', 'gist_yarg', 'gist_gray', 'gray', 'bone', 'pink',\n",
    "                          'spring', 'summer', 'autumn', 'winter', 'cool', 'Wistia',\n",
    "                          'hot', 'afmhot', 'gist_heat', 'copper'],\n",
    "         'Divirgent': ['PiYG', 'PRGn', 'BrBG', 'PuOr', 'RdGy', 'RdBu',\n",
    "                       'RdYlBu', 'RdYlGn', 'Spectral', 'coolwarm', 'bwr', 'seismic'],\n",
    "         'Qualitative': ['Pastel1', 'Pastel2', 'Paired', 'Accent',\n",
    "                         'Dark2', 'Set1', 'Set2', 'Set3',\n",
    "                         'tab10', 'tab20', 'tab20b', 'tab20c'],\n",
    "         'Misc': ['flag', 'prism', 'ocean', 'gist_earth', 'terrain', 'gist_stern',\n",
    "                           'gnuplot', 'gnuplot2', 'CMRmap', 'cubehelix', 'brg',\n",
    "                           'gist_rainbow', 'rainbow', 'jet', 'turbo', 'nipy_spectral',\n",
    "                           'gist_ncar']}\n",
    "\n",
    "\n",
    "\n",
    "cmap_types = list(cmaps.keys())\n",
    "cmap_names= [cname  for ctype in cmap_types for cname in cmaps[ctype] ]\n",
    "\n",
    "w = widgets.Dropdown(\n",
    "    options= cmap_names,\n",
    "    value='jet',\n",
    "    description='ColorMap Choice:',\n",
    ")\n",
    "\n",
    "display(w)"
   ]
  },
  {
   "cell_type": "markdown",
   "metadata": {
    "id": "IE5vBRyNhqw4",
    "scrolled": true
   },
   "source": [
    "## graph"
   ]
  },
  {
   "cell_type": "code",
   "execution_count": null,
   "metadata": {
    "id": "CzcT39fOwMnN",
    "scrolled": true
   },
   "outputs": [],
   "source": [
    "SHOWSIG = True\n",
    "ACCENTS=True\n",
    "\n",
    "cmapStr = w.value\n",
    "if SHOWSIG:\n",
    "    fig = plt.figure( figsize=(16,14), clear=True, num=4, layout='constrained')\n",
    "    (ax,ax1) = fig.subplots(2,1, sharex=True, height_ratios=[.75,.25])\n",
    "else:\n",
    "  fig, ax= plt.subplots(1,1, figsize=(16,16), num=4, clear=True)\n",
    "\n",
    "ax.plot(cdf.index,cdf['mean'], 'b', lw=4, label='1982-2011 mean')\n",
    "ax.plot(cdf.index, cdf['mean+2std'], 'k', lw=4, label=r'1982-2011 mean $\\pm 2\\sigma$')\n",
    "ax.plot(cdf.index, cdf['mean-2std'], 'k', lw=4)\n",
    "ax.plot(cdf.index, cdf['mean+5std'], 'r', lw=4, label=r'1982-2011 mean +$5\\sigma$')\n",
    "\n",
    "yearL = range(1981, int(last_year)+1)\n",
    "num_colors = len(yearL)\n",
    "cmap = plt.get_cmap(cmapStr,num_colors)\n",
    "\n",
    "_skip = 10\n",
    "ms=5\n",
    "hl_years = {2009: 'o', 2010:'s', 2011:'^', 2012: 'v', 2013:'*', 2014: 'D', 2023:'x', 2024:'D'}\n",
    "\n",
    "for i,_year in enumerate(yearL):\n",
    "  ax.plot(cdf.index, cdf.loc[:,f'{_year}'], c=cmap(i), lw=1)\n",
    "  if ACCENTS:\n",
    "    if _year in hl_years.keys():\n",
    "      day_num = cdf.index.to_list()[0::_skip]\n",
    "      data = cdf[f'{_year}'].iloc[0::_skip]\n",
    "      ax.plot(day_num, data, hl_years[_year], c=cmap(i), ms=ms, label=f'{_year}')\n",
    "\n",
    "norm = colors.Normalize(vmin=1981,vmax=yearL[-1])\n",
    "sm = plt.cm.ScalarMappable(cmap=cmap, norm=norm)\n",
    "# check that the color chosen in is the middle of the color segment\n",
    "plt.colorbar(sm, ax=ax, ticks=linspace(1981,yearL[-1], num_colors), boundaries=arange(1981-.5,yearL[-1]+1,1))\n",
    "\n",
    "ax.set_ylabel(r'$T\\ \\  (^{\\circ} C)$', fontsize='xx-large')\n",
    "ax.set_title(f'1981-{last_year} SST daily average', fontsize='xx-large')\n",
    "ax.text(275, 19.6,  f'\\\\it{{data current to {last_date}}}', fontsize='xx-large')\n",
    "ax.set_xlim(0,365)\n",
    "ax.legend(ncols=4)\n",
    "\n",
    "if SHOWSIG:\n",
    "  ax1.plot(cdf.index,cdf['std'], 'b.', ms=4)\n",
    "  ax1.set_ylabel(r'$\\sigma\\ \\  (^{\\circ} C)$', fontsize='xx-large')\n",
    "  ax1.set_xlabel(r'day \\#', fontsize='xx-large')\n",
    "  ax1.set_title(r'daily $\\sigma$', fontsize='xx-large')\n",
    "  #plt.tight_layout()\n",
    "else:\n",
    "  ax.set_xlabel(r'day \\#', fontsize='xx-large')\n",
    "\n",
    "plt.savefig('SST-color.png')\n",
    "plt.show()"
   ]
  },
  {
   "cell_type": "markdown",
   "metadata": {},
   "source": [
    "# SST jumps"
   ]
  },
  {
   "cell_type": "code",
   "execution_count": null,
   "metadata": {
    "scrolled": true
   },
   "outputs": [],
   "source": [
    "SHOWSIG = True\n",
    "ACCENTS=True\n",
    "\n",
    "cmapStr = w.value\n",
    "if SHOWSIG:\n",
    "    fig = plt.figure( figsize=(16,14), clear=True, num=6, layout='constrained')\n",
    "    (ax,ax1) = fig.subplots(2,1, sharex=True, height_ratios=[.75,.25])\n",
    "else:\n",
    "  fig, ax= plt.subplots(1,1, figsize=(16,16), num=4, clear=True)\n",
    "\n",
    "ax.plot(cdf.index,cdf['mean'], 'b', lw=4, label='1982-2011 mean')\n",
    "ax.plot(cdf.index, cdf['mean+2std'], 'k', lw=4, label=r'1982-2011 mean $\\pm 2\\sigma$')\n",
    "ax.plot(cdf.index, cdf['mean-2std'], 'k', lw=4)\n",
    "ax.plot(cdf.index, cdf['mean+5std'], 'r', lw=4, label=r'1982-2011 mean +$5\\sigma$')\n",
    "ax.plot(cdf.index, cdf['mean+5finalstd'], 'g', lw=4, label=r'1982-2011 mean +$5\\sigma_{final}$')\n",
    "\n",
    "yearL = range(1981, int(last_year)+1)\n",
    "num_colors = len(yearL)\n",
    "cmap = plt.get_cmap(cmapStr,num_colors)\n",
    "\n",
    "_skip = 10\n",
    "ms=5\n",
    "year_choice = (1996, 1997, 1998, 1999, 2022, 2023, 2024)\n",
    "hl_years = {1996: 'D', 1997: 'x', 1998:'s', 1999: '^', 2022: 'D', 2023:'x', 2024: 's'} #  2013:'*', 2014: 'D', 2023:'x', 2024:'D'\n",
    "\n",
    "for i,_year in enumerate(yearL):\n",
    "    if _year in year_choice:\n",
    "      ax.plot(cdf.index, cdf.loc[:,f'{_year}'], c=cmap(i), lw=1)\n",
    "    if _year in hl_years.keys():\n",
    "      day_num = cdf.index.to_list()[0::_skip]\n",
    "      data = cdf[f'{_year}'].iloc[0::_skip]\n",
    "      ax.plot(day_num, data, hl_years[_year], c=cmap(i), ms=ms, label=f'{_year}')\n",
    "\n",
    "\n",
    "ax.set_ylabel(r'$T\\ \\  (^{\\circ} C)$', fontsize='xx-large')\n",
    "ax.set_title('SST jumps of 1997 and 2023', fontsize='xx-large')\n",
    "ax.text(275, 19.6,  f'\\\\it{{data current to {last_date}}}', fontsize='xx-large')\n",
    "ax.set_xlim(0,365)\n",
    "ax.legend(ncols=3)\n",
    "\n",
    "if SHOWSIG:\n",
    "  ax1.plot(cdf.index,cdf['std'], 'b.', ms=4)\n",
    "  ax1.plot(cdf.index, cdf['finalstd'], 'r', ms=4)\n",
    "  ax1.set_ylabel(r'$\\sigma\\ \\  (^{\\circ} C)$', fontsize='xx-large')\n",
    "  ax1.set_xlabel(r'day \\#', fontsize='xx-large')\n",
    "  ax1.set_title(r'daily $\\sigma$', fontsize='xx-large')\n",
    "  #plt.tight_layout()\n",
    "else:\n",
    "  ax.set_xlabel(r'day \\#', fontsize='xx-large')\n",
    "\n",
    "plt.savefig('SST-color-jumps.png')\n",
    "plt.show()"
   ]
  },
  {
   "cell_type": "code",
   "execution_count": null,
   "metadata": {
    "id": "df7Tuknu8U6n"
   },
   "outputs": [],
   "source": [
    "fig_all_T, ax_all_T = plt.subplots(1,1, figsize=(10,8), clear=True, num=5)\n",
    "for i,_year in enumerate(yearL):\n",
    "  ax_all_T.plot(array(cdf.index.to_list())/365.+i+1981, cdf[f'{_year}'], c=cmap(i), lw=1)\n",
    "plt.colorbar(sm, ax=ax_all_T, ticks=linspace(1981,yearL[-1], num_colors), boundaries=arange(1981-.5,yearL[-1]+1,1))\n",
    "plt.savefig('one-curve.png')\n",
    "plt.show()"
   ]
  },
  {
   "cell_type": "markdown",
   "metadata": {
    "id": "oHlWn0iAtkBR"
   },
   "source": [
    "# Just checking my stuff against Climate Reanalyzer graph"
   ]
  },
  {
   "cell_type": "code",
   "execution_count": null,
   "metadata": {
    "id": "ZTnEcF9RsTSY"
   },
   "outputs": [],
   "source": [
    "fig,ax = plt.subplots(1,1, figsize=(16,8), num=2, clear=True)\n",
    "ax.plot(df.T.index, df.T['1982-2011 mean'])\n",
    "ax.plot(df.T.index, df.T['plus 2σ'])\n",
    "ax.plot(df.T.index, df.T['minus 2σ'])\n",
    "ax.plot(cdf.index, cdf['mean+5std'], 'r-.', lw=4)\n",
    "ax.plot(cdf.index, cdf['mean+2std'], 'k-.', lw=4)\n",
    "ax.plot(cdf.index, cdf['mean-2std'], 'k-.', lw=4)\n",
    "ax.plot(cdf.index,cdf['mean'], 'b-.', lw=4)\n",
    "\n",
    "ax.plot(cdf.index, cdf['mean+5finalstd'], 'g', lw=4, label=r'1982-2011 mean +$5\\sigma_{final}$')\n",
    "\n",
    "ax.set_xlim(0,365)\n",
    "plt.show()"
   ]
  },
  {
   "cell_type": "markdown",
   "metadata": {},
   "source": [
    "## old graph"
   ]
  },
  {
   "cell_type": "code",
   "execution_count": null,
   "metadata": {
    "id": "NhKNJ0WNugAK"
   },
   "outputs": [],
   "source": [
    "fig,(ax, ax1) = plt.subplots(2,1,  sharex=True, figsize=(16,14), height_ratios=[.75,.25], num=1, clear=True)\n",
    "\n",
    "ax.plot(cdf.index,cdf['mean'], 'b', lw=4, label='1982-2011 mean')\n",
    "ax.plot(cdf.index, cdf['mean+2std'], 'k', lw=4, label=r'1982-2011 mean $\\pm 2\\sigma$')\n",
    "ax.plot(cdf.index, cdf['mean+5std'], 'r', lw=4, label=r'1982-2011 mean +$5\\sigma$')\n",
    "ax.plot(cdf.index, cdf['mean-2std'], 'k', lw=4)\n",
    "\n",
    "\n",
    "_skip = 10\n",
    "ms=5\n",
    "hl_years = [('2009', 'ko'), ('2010','k+'), ('2011','k^'), ('2012', 'ro'), ('2013','r+'), ('2014','r^'), ('2023','rs'), ('2024','rD')]\n",
    "for _year,fmt  in hl_years:\n",
    "  day_num = cdf.index.to_list()[0::_skip]\n",
    "  data = cdf[_year].iloc[0::_skip]\n",
    "  ax.plot(day_num, data, fmt, ms=ms, label=_year)\n",
    "\n",
    "yearL = range(1981, int(last_year)+1)\n",
    "for _year in yearL:\n",
    "  label=None\n",
    "  if _year<=2011:\n",
    "    fmt = 'k'\n",
    "    if _year==2011:\n",
    "      label = '1981-2011 data'\n",
    "  else:\n",
    "    fmt='r'\n",
    "    if _year==int(last_year):\n",
    "      label=f'2012-{last_year} data'\n",
    "  ax.plot(cdf.index, cdf.loc[:,f'{_year}'],  fmt, lw=.5, label=label)\n",
    "\n",
    "\n",
    "ax.set_ylabel(r'$T\\ \\  (^{\\circ} C)$', fontsize='xx-large')\n",
    "#ax.set_xlabel(r'day \\#', fontsize='xx-large')\n",
    "ax.set_title(f'1981-{last_year} SST daily average', fontsize='xx-large')\n",
    "ax.text(295, 19.6,  f'\\\\it{{data current to {last_date}}}', fontsize='xx-large')\n",
    "ax.set_xlim(0,365)\n",
    "ax.legend(ncols=5)\n",
    "\n",
    "ax1.plot(cdf.index,cdf['std'], 'b.', ms=4)\n",
    "ax1.set_ylabel(r'$\\sigma\\ \\  (^{\\circ} C)$', fontsize='xx-large')\n",
    "ax1.set_xlabel(r'day \\#', fontsize='xx-large')\n",
    "ax1.set_title(r'daily $\\sigma$', fontsize='xx-large')\n",
    "plt.tight_layout()\n",
    "plt.savefig('SST-black-red.png')\n",
    "plt.show()"
   ]
  },
  {
   "cell_type": "markdown",
   "metadata": {},
   "source": [
    "## color schemes"
   ]
  },
  {
   "cell_type": "code",
   "execution_count": null,
   "metadata": {},
   "outputs": [],
   "source": [
    "# Create figure and adjust figure height to number of colormaps\n",
    "\n",
    "ncols=len(cmap_types)\n",
    "nrows = max([len(arr) for arr in cmaps.values()])\n",
    "cbarfig, axsL = plt.subplots(nrows=nrows, ncols=ncols, sharey=True, sharex=True, figsize=(16, 16), num=3, clear=True)\n",
    "cbarfig.subplots_adjust(hspace=0.35, wspace=0.05)\n",
    "\n",
    "for axrow in axsL:\n",
    "  for ax in axrow:\n",
    "    # Turn off *all* ticks & spines, not just the ones with colormaps.\n",
    "    ax.set_axis_off()\n",
    "\n",
    "for n, key in zip(range(ncols), cmaps.keys()):\n",
    "  axs = [[j,axsL[j][n]]  for j in range(nrows)]\n",
    "  for (j, ax), cmap_name in zip(axs, cmaps[key]):\n",
    "    if j==0:\n",
    "      ax.text(.5, 1.05, cmap_types[n], ha='center', fontsize=12, transform=ax.transAxes)\n",
    "    ax.imshow(gradient, aspect='auto', cmap=cmap_name)\n",
    "    ax.text(.5, -0.3, cmap_name, ha='center', fontsize=12, transform=ax.transAxes)\n",
    "    # turn on just the box outline\n",
    "    ax.set_axis_on()\n",
    "    ax.set_xticks([])\n",
    "    ax.set_yticks([])\n",
    "\n",
    "cbarfig"
   ]
  },
  {
   "cell_type": "code",
   "execution_count": null,
   "metadata": {},
   "outputs": [],
   "source": []
  }
 ],
 "metadata": {
  "colab": {
   "authorship_tag": "ABX9TyOR7/Brfq5D1sdelJ/GR2/6",
   "include_colab_link": true,
   "provenance": []
  },
  "kernelspec": {
   "display_name": "Python 3 (ipykernel)",
   "language": "python",
   "name": "python3"
  },
  "language_info": {
   "codemirror_mode": {
    "name": "ipython",
    "version": 3
   },
   "file_extension": ".py",
   "mimetype": "text/x-python",
   "name": "python",
   "nbconvert_exporter": "python",
   "pygments_lexer": "ipython3",
   "version": "3.12.7"
  }
 },
 "nbformat": 4,
 "nbformat_minor": 4
}
