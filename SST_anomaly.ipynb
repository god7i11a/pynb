{
 "cells": [
  {
   "cell_type": "markdown",
   "metadata": {
    "colab_type": "text",
    "id": "view-in-github"
   },
   "source": [
    "<a href=\"https://colab.research.google.com/github/god7i11a/pynb/blob/main/SST_anomaly.ipynb\" target=\"_parent\"><img src=\"https://colab.research.google.com/assets/colab-badge.svg\" alt=\"Open In Colab\"/></a>"
   ]
  },
  {
   "cell_type": "markdown",
   "metadata": {
    "id": "DCWduFTENTFE"
   },
   "source": [
    "# Resources\n",
    "# https://climatereanalyzer.org/clim/sst_daily/\n",
    "# https://www.pyngl.ucar.edu/\n",
    "# https://www.ncl.ucar.edu/External/\n",
    "# https://climatedataguide.ucar.edu/\n",
    "\n",
    "# why $5\\sigma$ ???:    # https://home.cern/resources/faqs/five-sigma\n",
    "\n",
    "# TODOs:\n",
    "## explore other ways of quantifying variations besides daily distribution around the 20 year mean."
   ]
  },
  {
   "cell_type": "code",
   "execution_count": null,
   "metadata": {
    "id": "xohkny-IBGCg"
   },
   "outputs": [],
   "source": [
    "import os\n",
    "import re\n",
    "import sys\n",
    "\n",
    "%matplotlib ipympl\n",
    "%matplotlib inline\n",
    "\n",
    "try:\n",
    "    from google.colab import userdata, output\n",
    "    output.enable_custom_widget_manager()\n",
    "    ! pip install ipympl\n",
    "    ! sudo apt-get install cm-super dvipng texlive-latex-extra texlive-latex-recommended\n",
    "    COLAB = True\n",
    "except ModuleNotFoundError:\n",
    "    COLAB=False\n",
    "\n",
    "get_ipython().run_line_magic('matplotlib', 'ipympl')\n",
    "\n",
    "\n",
    "from locale import atof\n",
    "import math\n",
    "import datetime\n",
    "import ipywidgets as widgets\n",
    "from numpy import datetime_as_string, inf, array, linspace, sin, vstack, arange\n",
    "import branca.colormap as cm\n",
    "from pandas import DataFrame, to_datetime, Series, concat, isna, read_json, timedelta_range\n",
    "from matplotlib import pyplot as plt, colors\n",
    "\n",
    "\n",
    "plt.rcParams['text.usetex'] = True\n",
    "CID=None\n",
    "\n",
    "datasets = {'T2':{'URL':'https://climatereanalyzer.org/clim/t2_daily/json', \n",
    "                  'end_offset':-4,\n",
    "                  'mean_base': -2,\n",
    "                  'fileN': 'era5_world_t2_day.json',\n",
    "                  'sigma_caption_pos': [16.75,16.5],\n",
    "                  'caption_height': 11.05\n",
    "                 },\n",
    "            'SST': {'URL':'https://climatereanalyzer.org/clim/sst_daily/json_2clim', \n",
    "                    'end_offset':-3,\n",
    "                    'mean_base': -2,\n",
    "                    'fileN': 'oisst2.1_world2_sst_day.json',\n",
    "                    'sigma_caption_pos': [21.25, 21.2],\n",
    "                    'caption_height': 19.6\n",
    "                 },\n",
    "            'SST_old': {'URL':'https://climatereanalyzer.org/clim/sst_daily/json', \n",
    "                        'end_offset':-4,\n",
    "                        'fileN': 'oisst2.1_world2_sst_day.json',\n",
    "                        'caption_height': 19.6\n",
    "                 }\n",
    "           }"
   ]
  },
  {
   "cell_type": "markdown",
   "metadata": {
    "id": "i16ppWnsN-8z"
   },
   "source": [
    "# get the latest data\n",
    "\n",
    "# global average   https://climatereanalyzer.org/clim/t2_daily/json/era5_world_t2_day.json\n",
    "# gridded data https://www.ncei.noaa.gov/data/sea-surface-temperature-optimum-interpolation/v2.1/access/avhrr/"
   ]
  },
  {
   "cell_type": "code",
   "execution_count": null,
   "metadata": {
    "id": "BSg8Pu5zBPRT"
   },
   "outputs": [],
   "source": [
    "dataset_key='T2'\n",
    "fileN = datasets[dataset_key]['fileN']\n",
    "URL = datasets[dataset_key]['URL']\n",
    "end_offset=datasets[dataset_key]['end_offset']\n",
    "caption_height = datasets[dataset_key]['caption_height']\n",
    "mean_base = datasets[dataset_key]['mean_base']\n",
    "sigma_caption_pos = datasets[dataset_key]['sigma_caption_pos']\n",
    "\n",
    "path = f\"{URL}/{fileN}\"\n",
    "df = read_json(path_or_buf=path)\n",
    "df.set_index(\"name\", inplace=True)\n",
    "df = DataFrame(df[\"data\"].to_list(), columns=list(range(1, 367)), index=df.index)\n",
    "print(df.index.to_list())\n",
    "last_year = df.index.to_list()[end_offset]\n",
    "first_year = df.index.to_list()[0]\n",
    "day_of_year = df.loc[last_year, :].dropna().index.to_list()[-1]\n",
    "print(f'{day_of_year=}')\n",
    "last_date=(datetime.datetime(int(last_year), 1, 1) + datetime.timedelta(day_of_year - 1)).strftime('%m/%d/%Y')\n",
    "print(f'latest data point is {last_date}')\n",
    "print(f'last year = {last_year}')\n",
    "print(f'first year = {first_year}')\n",
    "end_data_period = df.index.to_list()[end_offset+1:]\n",
    "mean_baseL = df.index.to_list()[mean_base].split('-')\n",
    "df.to_excel(f'{dataset_key}_raw_data.xlsx')"
   ]
  },
  {
   "cell_type": "markdown",
   "metadata": {
    "id": "0wR6u1G_N2Qw"
   },
   "source": [
    "# compute mean and standard deviations and display raw data"
   ]
  },
  {
   "cell_type": "code",
   "execution_count": null,
   "metadata": {
    "id": "KQObZA52BWEk"
   },
   "outputs": [],
   "source": [
    "cdf=df.T.loc[:, first_year:]\n",
    "cdf['mean'] = cdf.loc[:,mean_baseL[0]:mean_baseL[1]].mean(axis=1, skipna=True)\n",
    "cdf['std'] = cdf.loc[:,mean_baseL[0]:mean_baseL[1]].std(axis=1, skipna=True)\n",
    "cdf['finalmean'] = cdf.loc[:,'2011':last_year].mean(axis=1, skipna=True)\n",
    "cdf['finalstd'] = cdf.loc[:,'2011':last_year].std(axis=1, skipna=True)\n",
    "cdf['mean+5std'] = cdf['mean']+5*cdf['std']\n",
    "cdf['mean+5finalstd'] = cdf['mean']+5*cdf['finalstd']\n",
    "cdf['mean+2std'] = cdf['mean']+2*cdf['std']\n",
    "cdf['mean-2std'] = cdf['mean']-2*cdf['std']\n",
    "cdf"
   ]
  },
  {
   "cell_type": "code",
   "execution_count": null,
   "metadata": {},
   "outputs": [],
   "source": [
    "fig_last, ax_last = plt.subplots(1,1, figsize=(10,6), clear=True, num=1)\n",
    "yearL = range(1981, int(last_year)+1)\n",
    "print(yearL)\n",
    "ax_last.plot(array(cdf.index.to_list()), cdf[f'{yearL[-1]}'], lw=1)\n",
    "plt.xlim([0,day_of_year])\n",
    "plt.xlabel('day_of_year')\n",
    "plt.ylabel(r'$T\\ \\  (^{\\circ} C)$', fontsize='xx-large')\n",
    "plt.title(f'latest year of data = {last_year}')\n",
    "plt.savefig(f'{dataset_key}_last_year.png')\n",
    "plt.show()"
   ]
  },
  {
   "cell_type": "markdown",
   "metadata": {
    "id": "0z_xjC_PSIzj"
   },
   "source": [
    "# Colormaps\n",
    "# https://colorcet.holoviz.org/\n",
    "# https://cmasher.readthedocs.io/user/usage.html#accessing-colormaps"
   ]
  },
  {
   "cell_type": "code",
   "execution_count": null,
   "metadata": {
    "id": "5JAEmAM6lyD5"
   },
   "outputs": [],
   "source": [
    "gradient = linspace(0, 1, 256)\n",
    "gradient = vstack((gradient, gradient))\n",
    "cmaps = {'Cyclic': ['twilight', 'twilight_shifted', 'hsv'],\n",
    "         'Perceptually Uniform Seq': ['viridis', 'plasma', 'inferno', 'magma', 'cividis'],\n",
    "         'Seq': ['Greys', 'Purples', 'Blues', 'Greens', 'Oranges', 'Reds',\n",
    "                        'YlOrBr', 'YlOrRd', 'OrRd', 'PuRd', 'RdPu', 'BuPu',\n",
    "                        'GnBu', 'PuBu', 'YlGnBu', 'PuBuGn', 'BuGn', 'YlGn'],\n",
    "         'Seq2': ['binary', 'gist_yarg', 'gist_gray', 'gray', 'bone', 'pink',\n",
    "                          'spring', 'summer', 'autumn', 'winter', 'cool', 'Wistia',\n",
    "                          'hot', 'afmhot', 'gist_heat', 'copper'],\n",
    "         'Divirgent': ['PiYG', 'PRGn', 'BrBG', 'PuOr', 'RdGy', 'RdBu',\n",
    "                       'RdYlBu', 'RdYlGn', 'Spectral', 'coolwarm', 'bwr', 'seismic'],\n",
    "         'Qualitative': ['Pastel1', 'Pastel2', 'Paired', 'Accent',\n",
    "                         'Dark2', 'Set1', 'Set2', 'Set3',\n",
    "                         'tab10', 'tab20', 'tab20b', 'tab20c'],\n",
    "         'Misc': ['flag', 'prism', 'ocean', 'gist_earth', 'terrain', 'gist_stern',\n",
    "                           'gnuplot', 'gnuplot2', 'CMRmap', 'cubehelix', 'brg',\n",
    "                           'gist_rainbow', 'rainbow', 'jet', 'turbo', 'nipy_spectral',\n",
    "                           'gist_ncar']}\n",
    "\n",
    "\n",
    "\n",
    "cmap_types = list(cmaps.keys())\n",
    "cmap_names= [cname  for ctype in cmap_types for cname in cmaps[ctype] ]\n",
    "\n",
    "w = widgets.Dropdown(\n",
    "    options= cmap_names,\n",
    "    value='jet',\n",
    "    description='ColorMap Choice:',\n",
    ")\n",
    "\n",
    "display(w)"
   ]
  },
  {
   "cell_type": "markdown",
   "metadata": {
    "id": "IE5vBRyNhqw4",
    "scrolled": true
   },
   "source": [
    "## graph"
   ]
  },
  {
   "cell_type": "code",
   "execution_count": null,
   "metadata": {
    "id": "CzcT39fOwMnN",
    "scrolled": true
   },
   "outputs": [],
   "source": [
    "SHOWSIG = True\n",
    "ACCENTS=True\n",
    "PICK=False\n",
    "if (not PICK) and CID:\n",
    "    print('disconnecting')\n",
    "    CID.disconnect()  \n",
    "\n",
    "def on_pick(event):\n",
    "    x=event.mouseevent.xdata\n",
    "    y=event.mouseevent.ydata\n",
    "    ax.text(x, y, event.artist.get_label()) \n",
    "\n",
    "cmapStr = w.value\n",
    "if SHOWSIG:\n",
    "    fig = plt.figure( figsize=(16,14), clear=True, num=2, layout='constrained')\n",
    "    (ax,ax1) = fig.subplots(2,1, sharex=True, height_ratios=[.75,.25])\n",
    "else:\n",
    "  fig, ax= plt.subplots(1,1, figsize=(16,16), num=2, clear=True)\n",
    "\n",
    "if PICK:\n",
    "    CID=fig.canvas.mpl_connect('pick_event', on_pick)   \n",
    "\n",
    "ax.plot(cdf.index,cdf['mean'], 'b', lw=4, label=f'{mean_baseL[0]}-{mean_baseL[1]} mean')\n",
    "ax.plot(cdf.index, cdf['mean+2std'], 'k', lw=4, label=rf'{mean_baseL[0]}-{mean_baseL[1]} mean $\\pm 2\\sigma$')\n",
    "ax.plot(cdf.index, cdf['mean-2std'], 'k', lw=4)\n",
    "ax.plot(cdf.index, cdf['mean+5std'], 'r', lw=4, label=rf'{mean_baseL[0]}-{mean_baseL[1]} mean +$5\\sigma$')\n",
    "\n",
    "yearL = range(int(first_year), int(last_year)+1)\n",
    "num_colors = len(yearL)\n",
    "cmap = plt.get_cmap(cmapStr,num_colors)\n",
    "\n",
    "_skip = 10\n",
    "ms=5\n",
    "hl_years = {2009: 'o', 2010:'s', 2011:'^', 2012: 'v', 2013:'*', 2014: 'D', 2015:'<', 2016:'>', 2023:'x', 2024:'D'}\n",
    "\n",
    "labels=None\n",
    "for i,_year in enumerate(yearL):\n",
    "  if PICK:\n",
    "    labels=_year\n",
    "        \n",
    "  ax.plot(cdf.index, cdf.loc[:,f'{_year}'], c=cmap(i), lw=1, label=labels, picker=PICK, pickradius=5)\n",
    "  if ACCENTS:\n",
    "    if _year in hl_years.keys():\n",
    "      day_num = cdf.index.to_list()[0::_skip]\n",
    "      data = cdf[f'{_year}'].iloc[0::_skip]\n",
    "      ax.plot(day_num, data, hl_years[_year], c=cmap(i), ms=ms, label=f'{_year}')\n",
    "\n",
    "norm = colors.Normalize(vmin=int(first_year),vmax=yearL[-1])\n",
    "sm = plt.cm.ScalarMappable(cmap=cmap, norm=norm)\n",
    "# check that the color chosen in is the middle of the color segment\n",
    "plt.colorbar(sm, ax=ax, ticks=linspace(int(first_year),yearL[-1], num_colors), boundaries=arange(int(first_year)-.5,yearL[-1]+1,1))\n",
    "\n",
    "ax.set_ylabel(r'$T\\ \\  (^{\\circ} C)$', fontsize='xx-large')\n",
    "ax.set_title(f'{first_year}-{last_year} daily {dataset_key}', fontsize='xx-large')\n",
    "ax.text(275, caption_height,  f'\\\\it{{data current to {last_date}}}', fontsize='xx-large')\n",
    "ax.set_xlim(0,365)\n",
    "if not PICK:\n",
    "    ax.legend(ncols=4)\n",
    "\n",
    "if SHOWSIG:\n",
    "  ax1.plot(cdf.index,cdf['std'], 'b.', ms=4)\n",
    "  ax1.set_ylabel(r'$\\sigma\\ \\  (^{\\circ} C)$', fontsize='xx-large')\n",
    "  ax1.set_xlabel(r'day \\#', fontsize='xx-large')\n",
    "  ax1.set_title(r'daily $\\sigma$', fontsize='xx-large')\n",
    "  #plt.tight_layout()\n",
    "else:\n",
    "  ax.set_xlabel(r'day \\#', fontsize='xx-large')\n",
    "\n",
    "ax.text(272, sigma_caption_pos[0], rf'$\\sigma = \\sigma({mean_baseL[0]}-{mean_baseL[1]})$', fontsize='medium')\n",
    "\n",
    "plt.savefig(f'{dataset_key}-color.png')\n",
    "plt.show()"
   ]
  },
  {
   "cell_type": "markdown",
   "metadata": {},
   "source": [
    "# SST jumps"
   ]
  },
  {
   "cell_type": "code",
   "execution_count": null,
   "metadata": {
    "scrolled": true
   },
   "outputs": [],
   "source": [
    "SHOWSIG = True\n",
    "ACCENTS=True\n",
    "\n",
    "cmapStr = w.value\n",
    "if SHOWSIG:\n",
    "    fig = plt.figure( figsize=(16,14), clear=True, num=3, layout='constrained')\n",
    "    (ax,ax1) = fig.subplots(2,1, sharex=True, height_ratios=[.75,.25])\n",
    "else:\n",
    "  fig, ax= plt.subplots(1,1, figsize=(16,16), num=3, clear=True)\n",
    "\n",
    "ax.plot(cdf.index,cdf['mean'], 'b', lw=4, label=f'{mean_baseL[0]}-{mean_baseL[1]} mean')\n",
    "ax.plot(cdf.index, cdf['mean+2std'], 'k', lw=4, label=rf'{mean_baseL[0]}-{mean_baseL[1]} mean $\\pm 2\\sigma$')\n",
    "ax.plot(cdf.index, cdf['mean-2std'], 'k', lw=4)\n",
    "ax.plot(cdf.index, cdf['mean+5std'], 'r', lw=4, label=rf'{mean_baseL[0]}-{mean_baseL[1]} mean +$5\\sigma$')\n",
    "ax.plot(cdf.index, cdf['mean+5finalstd'], 'g', lw=4, label=f'{mean_baseL[0]}-{mean_baseL[1]}'r' mean +$5\\sigma_{final}$')\n",
    "\n",
    "yearL = range(int(first_year), int(last_year)+1)\n",
    "num_colors = len(yearL)\n",
    "cmap = plt.get_cmap(cmapStr,num_colors)\n",
    "\n",
    "_skip = 10\n",
    "ms=5\n",
    "\n",
    "hl_years = {1996: 'D', 1997: 'x', 1998:'s', 1999: '^', 2022: 'D', 2023:'x', 2024: 's', 2025:'s', 2017:'*', 2014: 'D'}\n",
    "year_choice = hl_years.keys()\n",
    "\n",
    "for i,_year in enumerate(yearL):\n",
    "    if _year in year_choice:\n",
    "      ax.plot(cdf.index, cdf.loc[:,f'{_year}'], c=cmap(i), lw=1)\n",
    "    if _year in hl_years.keys():\n",
    "      day_num = cdf.index.to_list()[0::_skip]\n",
    "      data = cdf[f'{_year}'].iloc[0::_skip]\n",
    "      ax.plot(day_num, data, hl_years[_year], c=cmap(i), ms=ms, label=f'{_year}')\n",
    "\n",
    "\n",
    "ax.set_ylabel(r'$T\\ \\  (^{\\circ} C)$', fontsize='xx-large')\n",
    "ax.set_title(f'{dataset_key} jumps of 1997 and 2023', fontsize='xx-large')\n",
    "ax.text(275, caption_height,  f'\\\\it{{data current to {last_date}}}', fontsize='xx-large')\n",
    "ax.set_xlim(0,365)\n",
    "ax.legend(ncols=3)\n",
    "ax.text(272, sigma_caption_pos[0], r'$\\sigma_{final} = \\sigma(2011-2024)$', fontsize='medium')\n",
    "ax.text(272, sigma_caption_pos[1], rf'$\\sigma = \\sigma({mean_baseL[0]}-{mean_baseL[1]})$', fontsize='medium')\n",
    "\n",
    "if SHOWSIG:\n",
    "  ax1.plot(cdf.index,cdf['std'], 'r', ms=4)\n",
    "  ax1.plot(cdf.index, cdf['finalstd'], 'g', ms=4)\n",
    "  ax1.set_ylabel(r'$\\sigma\\ \\  (^{\\circ} C)$', fontsize='xx-large')\n",
    "  ax1.set_xlabel(r'day \\#', fontsize='xx-large')\n",
    "  ax1.set_title(r'daily $\\sigma$', fontsize='xx-large')\n",
    "  #plt.tight_layout()\n",
    "else:\n",
    "  ax.set_xlabel(r'day \\#', fontsize='xx-large')\n",
    "\n",
    "plt.savefig(f'{dataset_key}-color-jumps.png')\n",
    "plt.show()"
   ]
  },
  {
   "cell_type": "code",
   "execution_count": null,
   "metadata": {
    "id": "df7Tuknu8U6n"
   },
   "outputs": [],
   "source": [
    "fig_all_T, ax_all_T = plt.subplots(1,1, figsize=(16,14), clear=True, num=4)\n",
    "num_colors = len(yearL)\n",
    "cmap = plt.get_cmap(cmapStr,num_colors)\n",
    "for i,_year in enumerate(yearL):\n",
    "    if i==0:\n",
    "        label=f'daily {dataset_key} data'\n",
    "    else:\n",
    "        label=None\n",
    "    ax_all_T.plot(array(cdf.index.to_list())/365.+i+int(first_year), cdf[f'{_year}'], '-', c=cmap(i), ms=1, lw=1,label=label )\n",
    "\n",
    "onedf = DataFrame(cdf[f'{yearL[0]}'].to_list()  )\n",
    "for i,_year in enumerate(yearL[1:]):\n",
    "    df1 = DataFrame(cdf[f'{_year}'].to_list())\n",
    "    onedf = concat([onedf,df1] ).reset_index(drop=True) \n",
    "\n",
    "center_window=False\n",
    "for num_year_roll, _color in zip((1,2,3,4),('k', 'g', 'r', 'b')):\n",
    "    window_length=num_year_roll*365\n",
    "    min_periods=window_length-num_year_roll\n",
    "    lab = f'rolling {num_year_roll}-year average'\n",
    "    ax_all_T.plot(array(onedf.index.to_list())/365.+int(first_year), onedf[0].rolling(window=window_length, center=center_window, min_periods=min_periods).mean(), color=_color, ms=1, label=lab)\n",
    "title = 'centered' if  center_window else 'right_aligned'\n",
    "title = title + ' rolling window'\n",
    "plt.title(title)\n",
    "ax_all_T.set_ylabel(r'$T\\ \\  (^{\\circ} C)$', fontsize='xx-large')\n",
    "plt.legend(numpoints=5)\n",
    "    \n",
    "plt.colorbar(sm, ax=ax_all_T, ticks=linspace(int(first_year),yearL[-1], num_colors), boundaries=arange(int(first_year)-.5,yearL[-1]+1,1))\n",
    "plt.savefig(f'{dataset_key}-one-curve.png')\n",
    "plt.show()"
   ]
  },
  {
   "cell_type": "markdown",
   "metadata": {
    "id": "oHlWn0iAtkBR"
   },
   "source": [
    "# Just checking my stuff against Climate Reanalyzer graph"
   ]
  },
  {
   "cell_type": "code",
   "execution_count": null,
   "metadata": {
    "id": "ZTnEcF9RsTSY"
   },
   "outputs": [],
   "source": [
    "markerL = ('g>', 'k<', 'c^')\n",
    "\n",
    "fig,ax = plt.subplots(1,1, figsize=(16,8), num=5, clear=True)\n",
    "\n",
    "cdf['3'] = cdf.loc[:,'2001':'2020'].mean(axis=1, skipna=True)\n",
    "cdf['4'] = cdf.loc[:,'2011':'2025'].mean(axis=1, skipna=True)\n",
    "cdf['5'] = cdf.loc[:,'2021':'2025'].mean(axis=1, skipna=True)\n",
    "\n",
    "ms = 4\n",
    "\n",
    "sl = slice(0,len(cdf.index), 10)\n",
    "date = cdf.index[sl]\n",
    "\n",
    "num = len(end_data_period)\n",
    "for end_data, marker in zip(end_data_period, markerL[0:num]):\n",
    "    ax.plot(date, cdf[end_data][sl], marker, ms=ms, label=f'{end_data} given daily mean')\n",
    "    \n",
    "ax.plot(date, cdf['3'][sl], 'y<', ms=ms, label='2001-2020 daily mean')\n",
    "ax.plot(date, cdf['4'][sl], 'b<', ms=ms, label='2011-2025 daily mean')\n",
    "ax.plot(date, cdf['5'][sl], 'c<', ms=ms, label='2021-2025 daily mean')\n",
    "\n",
    "lw=1\n",
    "sl = slice(0,len(cdf.index), 1)\n",
    "date = cdf.index[sl]\n",
    "ax.plot(date, cdf['mean-2std'][sl], 'k-.', lw=lw, ms=ms, label=rf'{mean_baseL[0]}-{mean_baseL[1]} mean -$2\\sigma$')\n",
    "ax.plot(date,cdf['mean'][sl], 'b-.', lw=lw, ms=ms, label=rf'{mean_baseL[0]}-{mean_baseL[1]} mean')\n",
    "ax.plot(date, cdf['mean+2std'][sl], 'k-.', lw=lw, ms=ms, label=rf'{mean_baseL[0]}-{mean_baseL[1]} mean +$2\\sigma$')\n",
    "ax.plot(date, cdf['mean+5std'][sl], 'r-.', lw=lw, ms=ms, label=rf'{mean_baseL[0]}-{mean_baseL[1]} mean +$5\\sigma$')\n",
    "ax.plot(date, cdf['mean+5finalstd'][sl], 'g', lw=lw, ms=ms, label=f'{mean_baseL[0]}-{mean_baseL[1]} 'r'mean +$5\\sigma_{final}$')\n",
    "ax.legend(numpoints=4, ncols=2)\n",
    "ax.set_xlim(0,365)\n",
    "plt.show()"
   ]
  },
  {
   "cell_type": "markdown",
   "metadata": {},
   "source": [
    "## color schemes"
   ]
  },
  {
   "cell_type": "code",
   "execution_count": null,
   "metadata": {},
   "outputs": [],
   "source": [
    "# Create figure and adjust figure height to number of colormaps\n",
    "\n",
    "ncols=len(cmap_types)\n",
    "nrows = max([len(arr) for arr in cmaps.values()])\n",
    "cbarfig, axsL = plt.subplots(nrows=nrows, ncols=ncols, sharey=True, sharex=True, figsize=(16, 16), num=8, clear=True)\n",
    "cbarfig.subplots_adjust(hspace=0.35, wspace=0.05)\n",
    "\n",
    "for axrow in axsL:\n",
    "  for ax in axrow:\n",
    "    # Turn off *all* ticks & spines, not just the ones with colormaps.\n",
    "    ax.set_axis_off()\n",
    "\n",
    "for n, key in zip(range(ncols), cmaps.keys()):\n",
    "  axs = [[j,axsL[j][n]]  for j in range(nrows)]\n",
    "  for (j, ax), cmap_name in zip(axs, cmaps[key]):\n",
    "    if j==0:\n",
    "      ax.text(.5, 1.05, cmap_types[n], ha='center', fontsize=12, transform=ax.transAxes)\n",
    "    ax.imshow(gradient, aspect='auto', cmap=cmap_name)\n",
    "    ax.text(.5, -0.3, cmap_name, ha='center', fontsize=12, transform=ax.transAxes)\n",
    "    # turn on just the box outline\n",
    "    ax.set_axis_on()\n",
    "    ax.set_xticks([])\n",
    "    ax.set_yticks([])\n",
    "\n",
    "cbarfig"
   ]
  }
 ],
 "metadata": {
  "colab": {
   "authorship_tag": "ABX9TyOR7/Brfq5D1sdelJ/GR2/6",
   "include_colab_link": true,
   "provenance": []
  },
  "kernelspec": {
   "display_name": "Python 3 (ipykernel)",
   "language": "python",
   "name": "python3"
  },
  "language_info": {
   "codemirror_mode": {
    "name": "ipython",
    "version": 3
   },
   "file_extension": ".py",
   "mimetype": "text/x-python",
   "name": "python",
   "nbconvert_exporter": "python",
   "pygments_lexer": "ipython3",
   "version": "3.12.7"
  }
 },
 "nbformat": 4,
 "nbformat_minor": 4
}
