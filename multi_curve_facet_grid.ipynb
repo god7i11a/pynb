{
 "cells": [
  {
   "cell_type": "markdown",
   "metadata": {
    "colab_type": "text",
    "id": "view-in-github"
   },
   "source": [
    "<a href=\"https://colab.research.google.com/github/god7i11a/pynb/blob/main/multi_curve_facet_grid.ipynb\" target=\"_parent\"><img src=\"https://colab.research.google.com/assets/colab-badge.svg\" alt=\"Open In Colab\"/></a>"
   ]
  },
  {
   "cell_type": "code",
   "execution_count": null,
   "metadata": {
    "colab": {
     "base_uri": "https://localhost:8080/",
     "height": 1000
    },
    "id": "XEI4TAZwWGmo",
    "outputId": "7fc6d35f-92b8-4751-de95-65212c96fce5"
   },
   "outputs": [],
   "source": [
    "# libraries\n",
    "import numpy as np\n",
    "import seaborn as sns\n",
    "import pandas as pd\n",
    "import matplotlib.pyplot as plt\n",
    "\n",
    "# Create a dataset\n",
    "my_count=[\"France\",\"Australia\",\"Japan\",\"USA\",\"Germany\",\"Congo\",\"China\",\"England\",\"Spain\",\"Greece\",\"Marocco\",\"South Africa\",\"Indonesia\",\"Peru\",\"Chili\",\"Brazil\"]\n",
    "df = pd.DataFrame({\n",
    "\"country\":np.repeat(my_count, 10),\n",
    "\"years\":list(range(2000, 2010)) * 16,\n",
    "\"value\":np.random.rand(160),\n",
    "\"attribute\": 2*np.random.rand(160)\n",
    "})\n",
    "\n",
    "# Create a grid : initialize it\n",
    "g = sns.FacetGrid(df, col='country', col_wrap=4, )  #  hue='country'\n",
    "\n",
    "# Add the line over the area with the plot function\n",
    "g = g.map(plt.plot, 'years', 'value', color='r') #.set_titles(\"{col_name} country\")\n",
    "g = g.map(plt.plot, 'years', 'attribute', color='g', marker='.', linestyle='-.')\n",
    "# Control the title of each facet\n",
    "g = g.set_titles(\"{col_name}\")\n",
    "\n",
    "# Add a title for the whole plot\n",
    "plt.subplots_adjust(top=0.92)\n",
    "g = g.fig.suptitle('Evolution of the value of stuff in 16 countries')\n",
    "\n",
    "# Show the graph\n",
    "plt.show()"
   ]
  },
  {
   "cell_type": "code",
   "execution_count": null,
   "metadata": {
    "id": "4baVzhYKWMRu"
   },
   "outputs": [],
   "source": [
    "df"
   ]
  },
  {
   "cell_type": "code",
   "execution_count": null,
   "metadata": {
    "id": "FDgH8cuqWeBO"
   },
   "outputs": [],
   "source": []
  }
 ],
 "metadata": {
  "colab": {
   "authorship_tag": "ABX9TyORdtL08ddfnICpjTNFU9T+",
   "include_colab_link": true,
   "provenance": []
  },
  "kernelspec": {
   "display_name": "Python 3 (ipykernel)",
   "language": "python",
   "name": "python3"
  },
  "language_info": {
   "codemirror_mode": {
    "name": "ipython",
    "version": 3
   },
   "file_extension": ".py",
   "mimetype": "text/x-python",
   "name": "python",
   "nbconvert_exporter": "python",
   "pygments_lexer": "ipython3",
   "version": "3.12.3"
  }
 },
 "nbformat": 4,
 "nbformat_minor": 4
}
